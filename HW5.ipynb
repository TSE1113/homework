{
 "cells": [
  {
   "cell_type": "markdown",
   "metadata": {
    "colab_type": "text"
   },
   "source": [
    "**Adding white-noise channels or all-zeros channels to MNIST**"
   ]
  },
  {
   "cell_type": "code",
   "execution_count": 1,
   "metadata": {
    "colab_type": "code"
   },
   "outputs": [],
   "source": [
    "from tensorflow.keras.datasets import mnist\n",
    "import numpy as np\n",
    "\n",
    "(train_images, train_labels), _ = mnist.load_data()\n",
    "train_images = train_images.reshape((60000, 28 * 28))\n",
    "train_images = train_images.astype(\"float32\") / 255\n",
    "\n",
    "train_images_with_noise_channels = np.concatenate(\n",
    "    [train_images, np.random.random((len(train_images), 784))], axis=1)\n",
    "\n",
    "train_images_with_zeros_channels = np.concatenate(\n",
    "    [train_images, np.zeros((len(train_images), 784))], axis=1)"
   ]
  },
  {
   "cell_type": "markdown",
   "metadata": {
    "colab_type": "text"
   },
   "source": [
    "**Training the same model on MNIST data with noise channels or all-zero channels**"
   ]
  },
  {
   "cell_type": "code",
   "execution_count": 2,
   "metadata": {
    "colab_type": "code"
   },
   "outputs": [
    {
     "name": "stdout",
     "output_type": "stream",
     "text": [
      "Epoch 1/10\n",
      "375/375 [==============================] - 5s 11ms/step - loss: 0.6244 - accuracy: 0.8126 - val_loss: 0.2483 - val_accuracy: 0.9283\n",
      "Epoch 2/10\n",
      "375/375 [==============================] - 4s 11ms/step - loss: 0.2487 - accuracy: 0.9229 - val_loss: 0.1796 - val_accuracy: 0.9457\n",
      "Epoch 3/10\n",
      "375/375 [==============================] - 4s 11ms/step - loss: 0.1611 - accuracy: 0.9505 - val_loss: 0.1448 - val_accuracy: 0.9582\n",
      "Epoch 4/10\n",
      "375/375 [==============================] - 4s 10ms/step - loss: 0.1148 - accuracy: 0.9634 - val_loss: 0.1450 - val_accuracy: 0.9587\n",
      "Epoch 5/10\n",
      "375/375 [==============================] - 4s 10ms/step - loss: 0.0847 - accuracy: 0.9737 - val_loss: 0.1381 - val_accuracy: 0.9603\n",
      "Epoch 6/10\n",
      "375/375 [==============================] - 4s 12ms/step - loss: 0.0632 - accuracy: 0.9800 - val_loss: 0.1288 - val_accuracy: 0.9657\n",
      "Epoch 7/10\n",
      "375/375 [==============================] - 4s 11ms/step - loss: 0.0468 - accuracy: 0.9849 - val_loss: 0.1414 - val_accuracy: 0.9581\n",
      "Epoch 8/10\n",
      "375/375 [==============================] - 4s 11ms/step - loss: 0.0357 - accuracy: 0.9886 - val_loss: 0.1643 - val_accuracy: 0.9601\n",
      "Epoch 9/10\n",
      "375/375 [==============================] - 4s 12ms/step - loss: 0.0271 - accuracy: 0.9912 - val_loss: 0.1240 - val_accuracy: 0.9680\n",
      "Epoch 10/10\n",
      "375/375 [==============================] - 4s 12ms/step - loss: 0.0189 - accuracy: 0.9940 - val_loss: 0.1784 - val_accuracy: 0.9582\n",
      "Epoch 1/10\n",
      "375/375 [==============================] - 5s 12ms/step - loss: 0.2880 - accuracy: 0.9170 - val_loss: 0.1609 - val_accuracy: 0.9521\n",
      "Epoch 2/10\n",
      "375/375 [==============================] - 5s 13ms/step - loss: 0.1202 - accuracy: 0.9642 - val_loss: 0.1068 - val_accuracy: 0.9688\n",
      "Epoch 3/10\n",
      "375/375 [==============================] - 4s 11ms/step - loss: 0.0786 - accuracy: 0.9769 - val_loss: 0.0947 - val_accuracy: 0.9705\n",
      "Epoch 4/10\n",
      "375/375 [==============================] - 4s 12ms/step - loss: 0.0569 - accuracy: 0.9835 - val_loss: 0.0835 - val_accuracy: 0.9775\n",
      "Epoch 5/10\n",
      "375/375 [==============================] - 5s 12ms/step - loss: 0.0416 - accuracy: 0.9874 - val_loss: 0.0806 - val_accuracy: 0.9763\n",
      "Epoch 6/10\n",
      "375/375 [==============================] - 4s 11ms/step - loss: 0.0313 - accuracy: 0.9909 - val_loss: 0.0807 - val_accuracy: 0.9768\n",
      "Epoch 7/10\n",
      "375/375 [==============================] - 4s 11ms/step - loss: 0.0247 - accuracy: 0.9929 - val_loss: 0.0805 - val_accuracy: 0.9785\n",
      "Epoch 8/10\n",
      "375/375 [==============================] - 4s 11ms/step - loss: 0.0185 - accuracy: 0.9946 - val_loss: 0.0837 - val_accuracy: 0.9782\n",
      "Epoch 9/10\n",
      "375/375 [==============================] - 4s 11ms/step - loss: 0.0139 - accuracy: 0.9959 - val_loss: 0.0917 - val_accuracy: 0.9781\n",
      "Epoch 10/10\n",
      "375/375 [==============================] - 4s 11ms/step - loss: 0.0110 - accuracy: 0.9969 - val_loss: 0.0868 - val_accuracy: 0.9774\n"
     ]
    }
   ],
   "source": [
    "from tensorflow import keras\n",
    "from tensorflow.keras import layers\n",
    "\n",
    "def get_model():\n",
    "    model = keras.Sequential([\n",
    "        layers.Dense(512, activation=\"relu\"),\n",
    "        layers.Dense(10, activation=\"softmax\")\n",
    "    ])\n",
    "    model.compile(optimizer=\"rmsprop\",\n",
    "                  loss=\"sparse_categorical_crossentropy\",\n",
    "                  metrics=[\"accuracy\"])\n",
    "    return model\n",
    "\n",
    "model = get_model()\n",
    "history_noise = model.fit(\n",
    "    train_images_with_noise_channels, train_labels,\n",
    "    epochs=10,\n",
    "    batch_size=128,\n",
    "    validation_split=0.2)\n",
    "\n",
    "model = get_model()\n",
    "history_zeros = model.fit(\n",
    "    train_images_with_zeros_channels, train_labels,\n",
    "    epochs=10,\n",
    "    batch_size=128,\n",
    "    validation_split=0.2)"
   ]
  },
  {
   "cell_type": "markdown",
   "metadata": {
    "colab_type": "text"
   },
   "source": [
    "**Plotting a validation accuracy comparison**"
   ]
  },
  {
   "cell_type": "code",
   "execution_count": 3,
   "metadata": {
    "colab_type": "code"
   },
   "outputs": [
    {
     "data": {
      "text/plain": [
       "<matplotlib.legend.Legend at 0x2172b63fd60>"
      ]
     },
     "execution_count": 3,
     "metadata": {},
     "output_type": "execute_result"
    },
    {
     "data": {
      "image/png": "[encoded data removed]",
      "text/plain": [
       "<Figure size 432x288 with 1 Axes>"
      ]
     },
     "metadata": {
      "needs_background": "light"
     },
     "output_type": "display_data"
    }
   ],
   "source": [
    "import matplotlib.pyplot as plt\n",
    "val_acc_noise = history_noise.history[\"val_accuracy\"]\n",
    "val_acc_zeros = history_zeros.history[\"val_accuracy\"]\n",
    "epochs = range(1, 11)\n",
    "plt.plot(epochs, val_acc_noise, \"b-\",\n",
    "         label=\"Validation accuracy with noise channels\")\n",
    "plt.plot(epochs, val_acc_zeros, \"b--\",\n",
    "         label=\"Validation accuracy with zeros channels\")\n",
    "plt.title(\"Effect of noise channels on validation accuracy\")\n",
    "plt.xlabel(\"Epochs\")\n",
    "plt.ylabel(\"Accuracy\")\n",
    "plt.legend()"
   ]
  },
  {
   "cell_type": "markdown",
   "metadata": {
    "colab_type": "text"
   },
   "source": [
    "### The nature of generalization in deep learning"
   ]
  },
  {
   "cell_type": "markdown",
   "metadata": {
    "colab_type": "text"
   },
   "source": [
    "**Fitting a MNIST model with randomly shuffled labels**"
   ]
  },
  {
   "cell_type": "code",
   "execution_count": 4,
   "metadata": {
    "colab_type": "code"
   },
   "outputs": [
    {
     "name": "stdout",
     "output_type": "stream",
     "text": [
      "Epoch 1/10\n",
      "375/375 [==============================] - 3s 7ms/step - loss: 2.3171 - accuracy: 0.1055 - val_loss: 2.3066 - val_accuracy: 0.1009\n",
      "Epoch 2/10\n",
      "375/375 [==============================] - 3s 7ms/step - loss: 2.3008 - accuracy: 0.1162 - val_loss: 2.3097 - val_accuracy: 0.1066\n",
      "Epoch 3/10\n",
      "375/375 [==============================] - 3s 7ms/step - loss: 2.2907 - accuracy: 0.1312 - val_loss: 2.3222 - val_accuracy: 0.1056\n",
      "Epoch 4/10\n",
      "375/375 [==============================] - 3s 7ms/step - loss: 2.2766 - accuracy: 0.1431 - val_loss: 2.3257 - val_accuracy: 0.1032\n",
      "Epoch 5/10\n",
      "375/375 [==============================] - 3s 7ms/step - loss: 2.2594 - accuracy: 0.1542 - val_loss: 2.3368 - val_accuracy: 0.1014\n",
      "Epoch 6/10\n",
      "375/375 [==============================] - 3s 7ms/step - loss: 2.2382 - accuracy: 0.1693 - val_loss: 2.3486 - val_accuracy: 0.1023\n",
      "Epoch 7/10\n",
      "375/375 [==============================] - 3s 7ms/step - loss: 2.2137 - accuracy: 0.1836 - val_loss: 2.3632 - val_accuracy: 0.1038\n",
      "Epoch 8/10\n",
      "375/375 [==============================] - 3s 8ms/step - loss: 2.1860 - accuracy: 0.1997 - val_loss: 2.3864 - val_accuracy: 0.1040\n",
      "Epoch 9/10\n",
      "375/375 [==============================] - 3s 8ms/step - loss: 2.1569 - accuracy: 0.2156 - val_loss: 2.4079 - val_accuracy: 0.1038\n",
      "Epoch 10/10\n",
      "375/375 [==============================] - 3s 9ms/step - loss: 2.1250 - accuracy: 0.2323 - val_loss: 2.4311 - val_accuracy: 0.1019\n"
     ]
    },
    {
     "data": {
      "text/plain": [
       "<keras.callbacks.History at 0x2172b748e80>"
      ]
     },
     "execution_count": 4,
     "metadata": {},
     "output_type": "execute_result"
    }
   ],
   "source": [
    "(train_images, train_labels), _ = mnist.load_data()\n",
    "train_images = train_images.reshape((60000, 28 * 28))\n",
    "train_images = train_images.astype(\"float32\") / 255\n",
    "\n",
    "random_train_labels = train_labels[:]\n",
    "np.random.shuffle(random_train_labels)\n",
    "\n",
    "model = keras.Sequential([\n",
    "    layers.Dense(512, activation=\"relu\"),\n",
    "    layers.Dense(10, activation=\"softmax\")\n",
    "])\n",
    "model.compile(optimizer=\"rmsprop\",\n",
    "              loss=\"sparse_categorical_crossentropy\",\n",
    "              metrics=[\"accuracy\"])\n",
    "model.fit(train_images, random_train_labels,\n",
    "          epochs=10,\n",
    "          batch_size=128,\n",
    "          validation_split=0.2)"
   ]
  },
  {
   "cell_type": "markdown",
   "metadata": {
    "colab_type": "text"
   },
   "source": [
    "#### The manifold hypothesis"
   ]
  },
  {
   "cell_type": "markdown",
   "metadata": {
    "colab_type": "text"
   },
   "source": [
    "#### Interpolation as a source of generalization"
   ]
  },
  {
   "cell_type": "markdown",
   "metadata": {
    "colab_type": "text"
   },
   "source": [
    "#### Why deep learning works"
   ]
  },
  {
   "cell_type": "markdown",
   "metadata": {
    "colab_type": "text"
   },
   "source": [
    "#### Training data is paramount"
   ]
  },
  {
   "cell_type": "markdown",
   "metadata": {
    "colab_type": "text"
   },
   "source": [
    "## Evaluating machine-learning models"
   ]
  },
  {
   "cell_type": "markdown",
   "metadata": {
    "colab_type": "text"
   },
   "source": [
    "### Training, validation, and test sets"
   ]
  },
  {
   "cell_type": "markdown",
   "metadata": {
    "colab_type": "text"
   },
   "source": [
    "#### Simple hold-out validation"
   ]
  },
  {
   "cell_type": "markdown",
   "metadata": {
    "colab_type": "text"
   },
   "source": [
    "#### K-fold validation"
   ]
  },
  {
   "cell_type": "markdown",
   "metadata": {
    "colab_type": "text"
   },
   "source": [
    "#### Iterated K-fold validation with shuffling"
   ]
  },
  {
   "cell_type": "markdown",
   "metadata": {
    "colab_type": "text"
   },
   "source": [
    "### Beating a common-sense baseline"
   ]
  },
  {
   "cell_type": "markdown",
   "metadata": {
    "colab_type": "text"
   },
   "source": [
    "### Things to keep in mind about model evaluation"
   ]
  },
  {
   "cell_type": "markdown",
   "metadata": {
    "colab_type": "text"
   },
   "source": [
    "## Improving model fit"
   ]
  },
  {
   "cell_type": "markdown",
   "metadata": {
    "colab_type": "text"
   },
   "source": [
    "### Tuning key gradient descent parameters"
   ]
  },
  {
   "cell_type": "markdown",
   "metadata": {
    "colab_type": "text"
   },
   "source": [
    "**Training a MNIST model with an incorrectly high learning rate**"
   ]
  },
  {
   "cell_type": "code",
   "execution_count": 5,
   "metadata": {
    "colab_type": "code"
   },
   "outputs": [
    {
     "name": "stdout",
     "output_type": "stream",
     "text": [
      "Epoch 1/10\n",
      "375/375 [==============================] - 4s 9ms/step - loss: 943.9146 - accuracy: 0.3984 - val_loss: 2.6531 - val_accuracy: 0.2872\n",
      "Epoch 2/10\n",
      "375/375 [==============================] - 3s 8ms/step - loss: 6.3962 - accuracy: 0.2640 - val_loss: 2.3659 - val_accuracy: 0.2904\n",
      "Epoch 3/10\n",
      "375/375 [==============================] - 3s 8ms/step - loss: 3.0407 - accuracy: 0.2922 - val_loss: 2.4058 - val_accuracy: 0.3100\n",
      "Epoch 4/10\n",
      "375/375 [==============================] - 3s 8ms/step - loss: 2.6992 - accuracy: 0.2715 - val_loss: 2.3342 - val_accuracy: 0.2978\n",
      "Epoch 5/10\n",
      "375/375 [==============================] - 3s 7ms/step - loss: 2.5420 - accuracy: 0.2889 - val_loss: 2.4927 - val_accuracy: 0.2677\n",
      "Epoch 6/10\n",
      "375/375 [==============================] - 3s 8ms/step - loss: 2.5461 - accuracy: 0.2720 - val_loss: 2.0202 - val_accuracy: 0.2598\n",
      "Epoch 7/10\n",
      "375/375 [==============================] - 3s 9ms/step - loss: 2.5318 - accuracy: 0.2920 - val_loss: 2.3385 - val_accuracy: 0.2948\n",
      "Epoch 8/10\n",
      "375/375 [==============================] - 3s 8ms/step - loss: 2.6021 - accuracy: 0.2805 - val_loss: 2.1200 - val_accuracy: 0.2183\n",
      "Epoch 9/10\n",
      "375/375 [==============================] - 3s 7ms/step - loss: 2.3787 - accuracy: 0.2625 - val_loss: 2.4890 - val_accuracy: 0.3276\n",
      "Epoch 10/10\n",
      "375/375 [==============================] - 3s 7ms/step - loss: 2.6221 - accuracy: 0.2864 - val_loss: 5.1543 - val_accuracy: 0.3100\n"
     ]
    },
    {
     "data": {
      "text/plain": [
       "<keras.callbacks.History at 0x2172bbdcdc0>"
      ]
     },
     "execution_count": 5,
     "metadata": {},
     "output_type": "execute_result"
    }
   ],
   "source": [
    "(train_images, train_labels), _ = mnist.load_data()\n",
    "train_images = train_images.reshape((60000, 28 * 28))\n",
    "train_images = train_images.astype(\"float32\") / 255\n",
    "\n",
    "model = keras.Sequential([\n",
    "    layers.Dense(512, activation=\"relu\"),\n",
    "    layers.Dense(10, activation=\"softmax\")\n",
    "])\n",
    "model.compile(optimizer=keras.optimizers.RMSprop(1.),\n",
    "              loss=\"sparse_categorical_crossentropy\",\n",
    "              metrics=[\"accuracy\"])\n",
    "model.fit(train_images, train_labels,\n",
    "          epochs=10,\n",
    "          batch_size=128,\n",
    "          validation_split=0.2)"
   ]
  },
  {
   "cell_type": "markdown",
   "metadata": {
    "colab_type": "text"
   },
   "source": [
    "**The same model with a more appropriate learning rate**"
   ]
  },
  {
   "cell_type": "code",
   "execution_count": 6,
   "metadata": {
    "colab_type": "code"
   },
   "outputs": [
    {
     "name": "stdout",
     "output_type": "stream",
     "text": [
      "Epoch 1/10\n",
      "375/375 [==============================] - 3s 7ms/step - loss: 0.3605 - accuracy: 0.9131 - val_loss: 0.1685 - val_accuracy: 0.9543\n",
      "Epoch 2/10\n",
      "375/375 [==============================] - 3s 8ms/step - loss: 0.1433 - accuracy: 0.9641 - val_loss: 0.1613 - val_accuracy: 0.9643\n",
      "Epoch 3/10\n",
      "375/375 [==============================] - 3s 8ms/step - loss: 0.1233 - accuracy: 0.9720 - val_loss: 0.1808 - val_accuracy: 0.9644\n",
      "Epoch 4/10\n",
      "375/375 [==============================] - 3s 8ms/step - loss: 0.1004 - accuracy: 0.9782 - val_loss: 0.1982 - val_accuracy: 0.9692\n",
      "Epoch 5/10\n",
      "375/375 [==============================] - 3s 7ms/step - loss: 0.0906 - accuracy: 0.9807 - val_loss: 0.2427 - val_accuracy: 0.9676\n",
      "Epoch 6/10\n",
      "375/375 [==============================] - 3s 7ms/step - loss: 0.0813 - accuracy: 0.9841 - val_loss: 0.2276 - val_accuracy: 0.9708\n",
      "Epoch 7/10\n",
      "375/375 [==============================] - 3s 7ms/step - loss: 0.0758 - accuracy: 0.9861 - val_loss: 0.2101 - val_accuracy: 0.9741\n",
      "Epoch 8/10\n",
      "375/375 [==============================] - 3s 7ms/step - loss: 0.0678 - accuracy: 0.9871 - val_loss: 0.2753 - val_accuracy: 0.9722\n",
      "Epoch 9/10\n",
      "375/375 [==============================] - 3s 7ms/step - loss: 0.0671 - accuracy: 0.9885 - val_loss: 0.3277 - val_accuracy: 0.9700\n",
      "Epoch 10/10\n",
      "375/375 [==============================] - 3s 7ms/step - loss: 0.0560 - accuracy: 0.9907 - val_loss: 0.3314 - val_accuracy: 0.9745\n"
     ]
    },
    {
     "data": {
      "text/plain": [
       "<keras.callbacks.History at 0x2172bdc1400>"
      ]
     },
     "execution_count": 6,
     "metadata": {},
     "output_type": "execute_result"
    }
   ],
   "source": [
    "model = keras.Sequential([\n",
    "    layers.Dense(512, activation=\"relu\"),\n",
    "    layers.Dense(10, activation=\"softmax\")\n",
    "])\n",
    "model.compile(optimizer=keras.optimizers.RMSprop(1e-2),\n",
    "              loss=\"sparse_categorical_crossentropy\",\n",
    "              metrics=[\"accuracy\"])\n",
    "model.fit(train_images, train_labels,\n",
    "          epochs=10,\n",
    "          batch_size=128,\n",
    "          validation_split=0.2)"
   ]
  },
  {
   "cell_type": "markdown",
   "metadata": {
    "colab_type": "text"
   },
   "source": [
    "### Leveraging better architecture priors"
   ]
  },
  {
   "cell_type": "markdown",
   "metadata": {
    "colab_type": "text"
   },
   "source": [
    "### Increasing model capacity"
   ]
  },
  {
   "cell_type": "markdown",
   "metadata": {
    "colab_type": "text"
   },
   "source": [
    "**A simple logistic regression on MNIST**"
   ]
  },
  {
   "cell_type": "code",
   "execution_count": 7,
   "metadata": {
    "colab_type": "code"
   },
   "outputs": [
    {
     "name": "stdout",
     "output_type": "stream",
     "text": [
      "Epoch 1/20\n",
      "375/375 [==============================] - 1s 2ms/step - loss: 0.6636 - accuracy: 0.8331 - val_loss: 0.3588 - val_accuracy: 0.9003\n",
      "Epoch 2/20\n",
      "375/375 [==============================] - 1s 2ms/step - loss: 0.3506 - accuracy: 0.9033 - val_loss: 0.3063 - val_accuracy: 0.9157\n",
      "Epoch 3/20\n",
      "375/375 [==============================] - 1s 3ms/step - loss: 0.3153 - accuracy: 0.9122 - val_loss: 0.2914 - val_accuracy: 0.9193\n",
      "Epoch 4/20\n",
      "375/375 [==============================] - 1s 3ms/step - loss: 0.2993 - accuracy: 0.9161 - val_loss: 0.2817 - val_accuracy: 0.9214\n",
      "Epoch 5/20\n",
      "375/375 [==============================] - 1s 2ms/step - loss: 0.2899 - accuracy: 0.9185 - val_loss: 0.2763 - val_accuracy: 0.9233\n",
      "Epoch 6/20\n",
      "375/375 [==============================] - 1s 3ms/step - loss: 0.2830 - accuracy: 0.9210 - val_loss: 0.2715 - val_accuracy: 0.9247\n",
      "Epoch 7/20\n",
      "375/375 [==============================] - 1s 3ms/step - loss: 0.2785 - accuracy: 0.9218 - val_loss: 0.2694 - val_accuracy: 0.9262\n",
      "Epoch 8/20\n",
      "375/375 [==============================] - 1s 3ms/step - loss: 0.2746 - accuracy: 0.9232 - val_loss: 0.2667 - val_accuracy: 0.9269\n",
      "Epoch 9/20\n",
      "375/375 [==============================] - 1s 3ms/step - loss: 0.2715 - accuracy: 0.9243 - val_loss: 0.2656 - val_accuracy: 0.9281\n",
      "Epoch 10/20\n",
      "375/375 [==============================] - 1s 2ms/step - loss: 0.2688 - accuracy: 0.9256 - val_loss: 0.2655 - val_accuracy: 0.9273\n",
      "Epoch 11/20\n",
      "375/375 [==============================] - 1s 2ms/step - loss: 0.2667 - accuracy: 0.9261 - val_loss: 0.2643 - val_accuracy: 0.9290\n",
      "Epoch 12/20\n",
      "375/375 [==============================] - 1s 2ms/step - loss: 0.2648 - accuracy: 0.9269 - val_loss: 0.2629 - val_accuracy: 0.9285\n",
      "Epoch 13/20\n",
      "375/375 [==============================] - 1s 3ms/step - loss: 0.2633 - accuracy: 0.9279 - val_loss: 0.2612 - val_accuracy: 0.9303\n",
      "Epoch 14/20\n",
      "375/375 [==============================] - 1s 3ms/step - loss: 0.2616 - accuracy: 0.9280 - val_loss: 0.2610 - val_accuracy: 0.9298\n",
      "Epoch 15/20\n",
      "375/375 [==============================] - 1s 2ms/step - loss: 0.2605 - accuracy: 0.9284 - val_loss: 0.2618 - val_accuracy: 0.9301\n",
      "Epoch 16/20\n",
      "375/375 [==============================] - 1s 3ms/step - loss: 0.2595 - accuracy: 0.9287 - val_loss: 0.2618 - val_accuracy: 0.9302\n",
      "Epoch 17/20\n",
      "375/375 [==============================] - 1s 3ms/step - loss: 0.2585 - accuracy: 0.9293 - val_loss: 0.2613 - val_accuracy: 0.9306\n",
      "Epoch 18/20\n",
      "375/375 [==============================] - 1s 2ms/step - loss: 0.2572 - accuracy: 0.9295 - val_loss: 0.2595 - val_accuracy: 0.9314\n",
      "Epoch 19/20\n",
      "375/375 [==============================] - 1s 2ms/step - loss: 0.2564 - accuracy: 0.9302 - val_loss: 0.2647 - val_accuracy: 0.9300\n",
      "Epoch 20/20\n",
      "375/375 [==============================] - 1s 2ms/step - loss: 0.2555 - accuracy: 0.9304 - val_loss: 0.2615 - val_accuracy: 0.9303\n"
     ]
    }
   ],
   "source": [
    "model = keras.Sequential([layers.Dense(10, activation=\"softmax\")])\n",
    "model.compile(optimizer=\"rmsprop\",\n",
    "              loss=\"sparse_categorical_crossentropy\",\n",
    "              metrics=[\"accuracy\"])\n",
    "history_small_model = model.fit(\n",
    "    train_images, train_labels,\n",
    "    epochs=20,\n",
    "    batch_size=128,\n",
    "    validation_split=0.2)"
   ]
  },
  {
   "cell_type": "code",
   "execution_count": 8,
   "metadata": {
    "colab_type": "code"
   },
   "outputs": [
    {
     "data": {
      "text/plain": [
       "<matplotlib.legend.Legend at 0x2172be5b0d0>"
      ]
     },
     "execution_count": 8,
     "metadata": {},
     "output_type": "execute_result"
    },
    {
     "data": {
      "image/png": "[encoded data removed]",
      "text/plain": [
       "<Figure size 432x288 with 1 Axes>"
      ]
     },
     "metadata": {
      "needs_background": "light"
     },
     "output_type": "display_data"
    }
   ],
   "source": [
    "import matplotlib.pyplot as plt\n",
    "val_loss = history_small_model.history[\"val_loss\"]\n",
    "epochs = range(1, 21)\n",
    "plt.plot(epochs, val_loss, \"b--\",\n",
    "         label=\"Validation loss\")\n",
    "plt.title(\"Effect of insufficient model capacity on validation loss\")\n",
    "plt.xlabel(\"Epochs\")\n",
    "plt.ylabel(\"Loss\")\n",
    "plt.legend()"
   ]
  },
  {
   "cell_type": "code",
   "execution_count": 9,
   "metadata": {
    "colab_type": "code"
   },
   "outputs": [
    {
     "name": "stdout",
     "output_type": "stream",
     "text": [
      "Epoch 1/20\n",
      "375/375 [==============================] - 2s 3ms/step - loss: 0.3578 - accuracy: 0.8996 - val_loss: 0.1855 - val_accuracy: 0.9466\n",
      "Epoch 2/20\n",
      "375/375 [==============================] - 1s 3ms/step - loss: 0.1617 - accuracy: 0.9522 - val_loss: 0.1406 - val_accuracy: 0.9573\n",
      "Epoch 3/20\n",
      "375/375 [==============================] - 1s 3ms/step - loss: 0.1120 - accuracy: 0.9662 - val_loss: 0.1123 - val_accuracy: 0.9659\n",
      "Epoch 4/20\n",
      "375/375 [==============================] - 1s 4ms/step - loss: 0.0856 - accuracy: 0.9749 - val_loss: 0.1004 - val_accuracy: 0.9703\n",
      "Epoch 5/20\n",
      "375/375 [==============================] - 1s 4ms/step - loss: 0.0695 - accuracy: 0.9790 - val_loss: 0.1025 - val_accuracy: 0.9699\n",
      "Epoch 6/20\n",
      "375/375 [==============================] - 1s 4ms/step - loss: 0.0574 - accuracy: 0.9825 - val_loss: 0.0957 - val_accuracy: 0.9721\n",
      "Epoch 7/20\n",
      "375/375 [==============================] - 1s 3ms/step - loss: 0.0477 - accuracy: 0.9849 - val_loss: 0.0980 - val_accuracy: 0.9738\n",
      "Epoch 8/20\n",
      "375/375 [==============================] - 1s 3ms/step - loss: 0.0402 - accuracy: 0.9877 - val_loss: 0.1032 - val_accuracy: 0.9713\n",
      "Epoch 9/20\n",
      "375/375 [==============================] - 1s 3ms/step - loss: 0.0346 - accuracy: 0.9897 - val_loss: 0.1003 - val_accuracy: 0.9743\n",
      "Epoch 10/20\n",
      "375/375 [==============================] - 1s 3ms/step - loss: 0.0294 - accuracy: 0.9908 - val_loss: 0.1010 - val_accuracy: 0.9744\n",
      "Epoch 11/20\n",
      "375/375 [==============================] - 1s 3ms/step - loss: 0.0248 - accuracy: 0.9926 - val_loss: 0.1209 - val_accuracy: 0.9689\n",
      "Epoch 12/20\n",
      "375/375 [==============================] - 1s 3ms/step - loss: 0.0205 - accuracy: 0.9939 - val_loss: 0.1233 - val_accuracy: 0.9709\n",
      "Epoch 13/20\n",
      "375/375 [==============================] - 1s 3ms/step - loss: 0.0171 - accuracy: 0.9947 - val_loss: 0.1249 - val_accuracy: 0.9715\n",
      "Epoch 14/20\n",
      "375/375 [==============================] - 1s 3ms/step - loss: 0.0152 - accuracy: 0.9951 - val_loss: 0.1304 - val_accuracy: 0.9736\n",
      "Epoch 15/20\n",
      "375/375 [==============================] - 1s 3ms/step - loss: 0.0131 - accuracy: 0.9960 - val_loss: 0.1240 - val_accuracy: 0.9747\n",
      "Epoch 16/20\n",
      "375/375 [==============================] - 1s 3ms/step - loss: 0.0112 - accuracy: 0.9961 - val_loss: 0.1249 - val_accuracy: 0.9756\n",
      "Epoch 17/20\n",
      "375/375 [==============================] - 1s 3ms/step - loss: 0.0099 - accuracy: 0.9967 - val_loss: 0.1262 - val_accuracy: 0.9760\n",
      "Epoch 18/20\n",
      "375/375 [==============================] - 1s 3ms/step - loss: 0.0076 - accuracy: 0.9977 - val_loss: 0.1445 - val_accuracy: 0.9727\n",
      "Epoch 19/20\n",
      "375/375 [==============================] - 1s 4ms/step - loss: 0.0070 - accuracy: 0.9978 - val_loss: 0.1589 - val_accuracy: 0.9703\n",
      "Epoch 20/20\n",
      "375/375 [==============================] - 1s 4ms/step - loss: 0.0057 - accuracy: 0.9982 - val_loss: 0.1424 - val_accuracy: 0.9756\n"
     ]
    }
   ],
   "source": [
    "model = keras.Sequential([\n",
    "    layers.Dense(96, activation=\"relu\"),\n",
    "    layers.Dense(96, activation=\"relu\"),\n",
    "    layers.Dense(10, activation=\"softmax\"),\n",
    "])\n",
    "model.compile(optimizer=\"rmsprop\",\n",
    "              loss=\"sparse_categorical_crossentropy\",\n",
    "              metrics=[\"accuracy\"])\n",
    "history_large_model = model.fit(\n",
    "    train_images, train_labels,\n",
    "    epochs=20,\n",
    "    batch_size=128,\n",
    "    validation_split=0.2)"
   ]
  },
  {
   "cell_type": "markdown",
   "metadata": {
    "colab_type": "text"
   },
   "source": [
    "## Improving generalization"
   ]
  },
  {
   "cell_type": "markdown",
   "metadata": {
    "colab_type": "text"
   },
   "source": [
    "### Dataset curation"
   ]
  },
  {
   "cell_type": "markdown",
   "metadata": {
    "colab_type": "text"
   },
   "source": [
    "### Feature engineering"
   ]
  },
  {
   "cell_type": "markdown",
   "metadata": {
    "colab_type": "text"
   },
   "source": [
    "### Using early stopping"
   ]
  },
  {
   "cell_type": "markdown",
   "metadata": {
    "colab_type": "text"
   },
   "source": [
    "### Regularizing your model"
   ]
  },
  {
   "cell_type": "markdown",
   "metadata": {
    "colab_type": "text"
   },
   "source": [
    "#### Reducing the network's size"
   ]
  },
  {
   "cell_type": "markdown",
   "metadata": {
    "colab_type": "text"
   },
   "source": [
    "**Original model**"
   ]
  },
  {
   "cell_type": "code",
   "execution_count": 10,
   "metadata": {
    "colab_type": "code"
   },
   "outputs": [
    {
     "name": "stdout",
     "output_type": "stream",
     "text": [
      "Epoch 1/20\n",
      "30/30 [==============================] - 2s 29ms/step - loss: 0.5031 - accuracy: 0.7996 - val_loss: 0.4029 - val_accuracy: 0.8471\n",
      "Epoch 2/20\n",
      "30/30 [==============================] - 0s 16ms/step - loss: 0.3054 - accuracy: 0.9035 - val_loss: 0.3048 - val_accuracy: 0.8885\n",
      "Epoch 3/20\n",
      "30/30 [==============================] - 0s 15ms/step - loss: 0.2240 - accuracy: 0.9297 - val_loss: 0.2829 - val_accuracy: 0.8910\n",
      "Epoch 4/20\n",
      "30/30 [==============================] - 0s 16ms/step - loss: 0.1776 - accuracy: 0.9446 - val_loss: 0.2752 - val_accuracy: 0.8908\n",
      "Epoch 5/20\n",
      "30/30 [==============================] - 1s 18ms/step - loss: 0.1476 - accuracy: 0.9529 - val_loss: 0.2953 - val_accuracy: 0.8829\n",
      "Epoch 6/20\n",
      "30/30 [==============================] - 1s 19ms/step - loss: 0.1183 - accuracy: 0.9660 - val_loss: 0.3037 - val_accuracy: 0.8830\n",
      "Epoch 7/20\n",
      "30/30 [==============================] - 1s 22ms/step - loss: 0.1020 - accuracy: 0.9685 - val_loss: 0.3653 - val_accuracy: 0.8686\n",
      "Epoch 8/20\n",
      "30/30 [==============================] - 1s 22ms/step - loss: 0.0843 - accuracy: 0.9769 - val_loss: 0.3245 - val_accuracy: 0.8828\n",
      "Epoch 9/20\n",
      "30/30 [==============================] - 1s 23ms/step - loss: 0.0685 - accuracy: 0.9836 - val_loss: 0.3721 - val_accuracy: 0.8761\n",
      "Epoch 10/20\n",
      "30/30 [==============================] - 1s 26ms/step - loss: 0.0583 - accuracy: 0.9855 - val_loss: 0.3712 - val_accuracy: 0.8788\n",
      "Epoch 11/20\n",
      "30/30 [==============================] - 1s 24ms/step - loss: 0.0470 - accuracy: 0.9892 - val_loss: 0.4350 - val_accuracy: 0.8683\n",
      "Epoch 12/20\n",
      "30/30 [==============================] - 1s 26ms/step - loss: 0.0397 - accuracy: 0.9909 - val_loss: 0.4364 - val_accuracy: 0.8723\n",
      "Epoch 13/20\n",
      "30/30 [==============================] - 1s 22ms/step - loss: 0.0320 - accuracy: 0.9932 - val_loss: 0.4494 - val_accuracy: 0.8748\n",
      "Epoch 14/20\n",
      "30/30 [==============================] - 1s 19ms/step - loss: 0.0266 - accuracy: 0.9949 - val_loss: 0.4769 - val_accuracy: 0.8719\n",
      "Epoch 15/20\n",
      "30/30 [==============================] - 1s 20ms/step - loss: 0.0201 - accuracy: 0.9969 - val_loss: 0.5079 - val_accuracy: 0.8720\n",
      "Epoch 16/20\n",
      "30/30 [==============================] - 1s 18ms/step - loss: 0.0163 - accuracy: 0.9977 - val_loss: 0.5470 - val_accuracy: 0.8685\n",
      "Epoch 17/20\n",
      "30/30 [==============================] - 1s 19ms/step - loss: 0.0144 - accuracy: 0.9976 - val_loss: 0.5719 - val_accuracy: 0.8700\n",
      "Epoch 18/20\n",
      "30/30 [==============================] - 1s 19ms/step - loss: 0.0086 - accuracy: 0.9993 - val_loss: 0.6246 - val_accuracy: 0.8632\n",
      "Epoch 19/20\n",
      "30/30 [==============================] - 1s 18ms/step - loss: 0.0076 - accuracy: 0.9996 - val_loss: 0.7046 - val_accuracy: 0.8583\n",
      "Epoch 20/20\n",
      "30/30 [==============================] - 1s 17ms/step - loss: 0.0049 - accuracy: 0.9997 - val_loss: 0.6718 - val_accuracy: 0.8658\n"
     ]
    }
   ],
   "source": [
    "from tensorflow.keras.datasets import imdb\n",
    "(train_data, train_labels), _ = imdb.load_data(num_words=10000)\n",
    "\n",
    "def vectorize_sequences(sequences, dimension=10000):\n",
    "    results = np.zeros((len(sequences), dimension))\n",
    "    for i, sequence in enumerate(sequences):\n",
    "        results[i, sequence] = 1.\n",
    "    return results\n",
    "train_data = vectorize_sequences(train_data)\n",
    "\n",
    "model = keras.Sequential([\n",
    "    layers.Dense(16, activation=\"relu\"),\n",
    "    layers.Dense(16, activation=\"relu\"),\n",
    "    layers.Dense(1, activation=\"sigmoid\")\n",
    "])\n",
    "model.compile(optimizer=\"rmsprop\",\n",
    "              loss=\"binary_crossentropy\",\n",
    "              metrics=[\"accuracy\"])\n",
    "history_original = model.fit(train_data, train_labels,\n",
    "                             epochs=20, batch_size=512, validation_split=0.4)"
   ]
  },
  {
   "cell_type": "markdown",
   "metadata": {
    "colab_type": "text"
   },
   "source": [
    "**Version of the model with lower capacity**"
   ]
  },
  {
   "cell_type": "code",
   "execution_count": 11,
   "metadata": {
    "colab_type": "code"
   },
   "outputs": [
    {
     "name": "stdout",
     "output_type": "stream",
     "text": [
      "Epoch 1/20\n",
      "30/30 [==============================] - 2s 28ms/step - loss: 0.6102 - accuracy: 0.7641 - val_loss: 0.5370 - val_accuracy: 0.8270\n",
      "Epoch 2/20\n",
      "30/30 [==============================] - 1s 20ms/step - loss: 0.4749 - accuracy: 0.8699 - val_loss: 0.4434 - val_accuracy: 0.8618\n",
      "Epoch 3/20\n",
      "30/30 [==============================] - 1s 17ms/step - loss: 0.3819 - accuracy: 0.8917 - val_loss: 0.3755 - val_accuracy: 0.8764\n",
      "Epoch 4/20\n",
      "30/30 [==============================] - 1s 18ms/step - loss: 0.3147 - accuracy: 0.9084 - val_loss: 0.3366 - val_accuracy: 0.8802\n",
      "Epoch 5/20\n",
      "30/30 [==============================] - 1s 17ms/step - loss: 0.2671 - accuracy: 0.9201 - val_loss: 0.3062 - val_accuracy: 0.8878\n",
      "Epoch 6/20\n",
      "30/30 [==============================] - 0s 17ms/step - loss: 0.2313 - accuracy: 0.9309 - val_loss: 0.2910 - val_accuracy: 0.8889\n",
      "Epoch 7/20\n",
      "30/30 [==============================] - 0s 17ms/step - loss: 0.2034 - accuracy: 0.9373 - val_loss: 0.2792 - val_accuracy: 0.8911\n",
      "Epoch 8/20\n",
      "30/30 [==============================] - 0s 16ms/step - loss: 0.1815 - accuracy: 0.9438 - val_loss: 0.2750 - val_accuracy: 0.8917\n",
      "Epoch 9/20\n",
      "30/30 [==============================] - 0s 14ms/step - loss: 0.1617 - accuracy: 0.9513 - val_loss: 0.2751 - val_accuracy: 0.8903\n",
      "Epoch 10/20\n",
      "30/30 [==============================] - 0s 15ms/step - loss: 0.1455 - accuracy: 0.9557 - val_loss: 0.2760 - val_accuracy: 0.8892\n",
      "Epoch 11/20\n",
      "30/30 [==============================] - 0s 15ms/step - loss: 0.1314 - accuracy: 0.9611 - val_loss: 0.2773 - val_accuracy: 0.8909\n",
      "Epoch 12/20\n",
      "30/30 [==============================] - 0s 15ms/step - loss: 0.1187 - accuracy: 0.9654 - val_loss: 0.2962 - val_accuracy: 0.8841\n",
      "Epoch 13/20\n",
      "30/30 [==============================] - 0s 16ms/step - loss: 0.1078 - accuracy: 0.9687 - val_loss: 0.2881 - val_accuracy: 0.8877\n",
      "Epoch 14/20\n",
      "30/30 [==============================] - 0s 15ms/step - loss: 0.0989 - accuracy: 0.9722 - val_loss: 0.2954 - val_accuracy: 0.8876\n",
      "Epoch 15/20\n",
      "30/30 [==============================] - 0s 14ms/step - loss: 0.0899 - accuracy: 0.9759 - val_loss: 0.3055 - val_accuracy: 0.8856\n",
      "Epoch 16/20\n",
      "30/30 [==============================] - 0s 15ms/step - loss: 0.0816 - accuracy: 0.9784 - val_loss: 0.3163 - val_accuracy: 0.8841\n",
      "Epoch 17/20\n",
      "30/30 [==============================] - 0s 15ms/step - loss: 0.0740 - accuracy: 0.9822 - val_loss: 0.3287 - val_accuracy: 0.8809\n",
      "Epoch 18/20\n",
      "30/30 [==============================] - 0s 15ms/step - loss: 0.0674 - accuracy: 0.9833 - val_loss: 0.3415 - val_accuracy: 0.8801\n",
      "Epoch 19/20\n",
      "30/30 [==============================] - 0s 14ms/step - loss: 0.0613 - accuracy: 0.9855 - val_loss: 0.3530 - val_accuracy: 0.8808\n",
      "Epoch 20/20\n",
      "30/30 [==============================] - 0s 14ms/step - loss: 0.0551 - accuracy: 0.9869 - val_loss: 0.3679 - val_accuracy: 0.8789\n"
     ]
    }
   ],
   "source": [
    "model = keras.Sequential([\n",
    "    layers.Dense(4, activation=\"relu\"),\n",
    "    layers.Dense(4, activation=\"relu\"),\n",
    "    layers.Dense(1, activation=\"sigmoid\")\n",
    "])\n",
    "model.compile(optimizer=\"rmsprop\",\n",
    "              loss=\"binary_crossentropy\",\n",
    "              metrics=[\"accuracy\"])\n",
    "history_smaller_model = model.fit(\n",
    "    train_data, train_labels,\n",
    "    epochs=20, batch_size=512, validation_split=0.4)"
   ]
  },
  {
   "cell_type": "markdown",
   "metadata": {
    "colab_type": "text"
   },
   "source": [
    "**Version of the model with higher capacity**"
   ]
  },
  {
   "cell_type": "code",
   "execution_count": 12,
   "metadata": {
    "colab_type": "code"
   },
   "outputs": [
    {
     "name": "stdout",
     "output_type": "stream",
     "text": [
      "Epoch 1/20\n",
      "30/30 [==============================] - 4s 117ms/step - loss: 0.5564 - accuracy: 0.7483 - val_loss: 0.3114 - val_accuracy: 0.8836\n",
      "Epoch 2/20\n",
      "30/30 [==============================] - 4s 119ms/step - loss: 0.2657 - accuracy: 0.8959 - val_loss: 0.4291 - val_accuracy: 0.8074\n",
      "Epoch 3/20\n",
      "30/30 [==============================] - 3s 107ms/step - loss: 0.1634 - accuracy: 0.9369 - val_loss: 0.2785 - val_accuracy: 0.8903\n",
      "Epoch 4/20\n",
      "30/30 [==============================] - 3s 88ms/step - loss: 0.0877 - accuracy: 0.9705 - val_loss: 0.3430 - val_accuracy: 0.8893\n",
      "Epoch 5/20\n",
      "30/30 [==============================] - 2s 82ms/step - loss: 0.0767 - accuracy: 0.9776 - val_loss: 0.3536 - val_accuracy: 0.8861\n",
      "Epoch 6/20\n",
      "30/30 [==============================] - 3s 84ms/step - loss: 0.0048 - accuracy: 0.9995 - val_loss: 0.5765 - val_accuracy: 0.8823\n",
      "Epoch 7/20\n",
      "30/30 [==============================] - 3s 100ms/step - loss: 8.5683e-04 - accuracy: 0.9999 - val_loss: 0.6411 - val_accuracy: 0.8859\n",
      "Epoch 8/20\n",
      "30/30 [==============================] - 3s 91ms/step - loss: 8.8840e-05 - accuracy: 1.0000 - val_loss: 0.7616 - val_accuracy: 0.8850\n",
      "Epoch 9/20\n",
      "30/30 [==============================] - 3s 94ms/step - loss: 1.2991e-05 - accuracy: 1.0000 - val_loss: 0.8626 - val_accuracy: 0.8846\n",
      "Epoch 10/20\n",
      "30/30 [==============================] - 3s 102ms/step - loss: 2.8761e-06 - accuracy: 1.0000 - val_loss: 0.9808 - val_accuracy: 0.8841\n",
      "Epoch 11/20\n",
      "30/30 [==============================] - 3s 87ms/step - loss: 0.3892 - accuracy: 0.9783 - val_loss: 0.8197 - val_accuracy: 0.8811\n",
      "Epoch 12/20\n",
      "30/30 [==============================] - 2s 82ms/step - loss: 1.6514e-05 - accuracy: 1.0000 - val_loss: 0.7976 - val_accuracy: 0.8821\n",
      "Epoch 13/20\n",
      "30/30 [==============================] - 3s 95ms/step - loss: 8.4560e-06 - accuracy: 1.0000 - val_loss: 0.7957 - val_accuracy: 0.8827\n",
      "Epoch 14/20\n",
      "30/30 [==============================] - 3s 101ms/step - loss: 5.1337e-06 - accuracy: 1.0000 - val_loss: 0.8104 - val_accuracy: 0.8820\n",
      "Epoch 15/20\n",
      "30/30 [==============================] - 3s 92ms/step - loss: 3.0364e-06 - accuracy: 1.0000 - val_loss: 0.8558 - val_accuracy: 0.8817\n",
      "Epoch 16/20\n",
      "30/30 [==============================] - 3s 84ms/step - loss: 1.4870e-06 - accuracy: 1.0000 - val_loss: 0.9308 - val_accuracy: 0.8824\n",
      "Epoch 17/20\n",
      "30/30 [==============================] - 2s 82ms/step - loss: 6.1027e-07 - accuracy: 1.0000 - val_loss: 1.0243 - val_accuracy: 0.8825\n",
      "Epoch 18/20\n",
      "30/30 [==============================] - 3s 96ms/step - loss: 2.3224e-07 - accuracy: 1.0000 - val_loss: 1.0984 - val_accuracy: 0.8827\n",
      "Epoch 19/20\n",
      "30/30 [==============================] - 3s 95ms/step - loss: 9.4528e-08 - accuracy: 1.0000 - val_loss: 1.1531 - val_accuracy: 0.8836\n",
      "Epoch 20/20\n",
      "30/30 [==============================] - 2s 83ms/step - loss: 4.4677e-08 - accuracy: 1.0000 - val_loss: 1.1901 - val_accuracy: 0.8834\n"
     ]
    }
   ],
   "source": [
    "model = keras.Sequential([\n",
    "    layers.Dense(512, activation=\"relu\"),\n",
    "    layers.Dense(512, activation=\"relu\"),\n",
    "    layers.Dense(1, activation=\"sigmoid\")\n",
    "])\n",
    "model.compile(optimizer=\"rmsprop\",\n",
    "              loss=\"binary_crossentropy\",\n",
    "              metrics=[\"accuracy\"])\n",
    "history_larger_model = model.fit(\n",
    "    train_data, train_labels,\n",
    "    epochs=20, batch_size=512, validation_split=0.4)"
   ]
  },
  {
   "cell_type": "markdown",
   "metadata": {
    "colab_type": "text"
   },
   "source": [
    "#### Adding weight regularization"
   ]
  },
  {
   "cell_type": "markdown",
   "metadata": {
    "colab_type": "text"
   },
   "source": [
    "**Adding L2 weight regularization to the model**"
   ]
  },
  {
   "cell_type": "code",
   "execution_count": 13,
   "metadata": {
    "colab_type": "code"
   },
   "outputs": [
    {
     "name": "stdout",
     "output_type": "stream",
     "text": [
      "Epoch 1/20\n",
      "30/30 [==============================] - 2s 26ms/step - loss: 0.6417 - accuracy: 0.7253 - val_loss: 0.5521 - val_accuracy: 0.7741\n",
      "Epoch 2/20\n",
      "30/30 [==============================] - 0s 16ms/step - loss: 0.4653 - accuracy: 0.8842 - val_loss: 0.4320 - val_accuracy: 0.8842\n",
      "Epoch 3/20\n",
      "30/30 [==============================] - 0s 16ms/step - loss: 0.3759 - accuracy: 0.9085 - val_loss: 0.3985 - val_accuracy: 0.8760\n",
      "Epoch 4/20\n",
      "30/30 [==============================] - 1s 19ms/step - loss: 0.3334 - accuracy: 0.9188 - val_loss: 0.4109 - val_accuracy: 0.8667\n",
      "Epoch 5/20\n",
      "30/30 [==============================] - 1s 19ms/step - loss: 0.3088 - accuracy: 0.9243 - val_loss: 0.3671 - val_accuracy: 0.8876\n",
      "Epoch 6/20\n",
      "30/30 [==============================] - 1s 18ms/step - loss: 0.2893 - accuracy: 0.9310 - val_loss: 0.3635 - val_accuracy: 0.8867\n",
      "Epoch 7/20\n",
      "30/30 [==============================] - 1s 20ms/step - loss: 0.2785 - accuracy: 0.9355 - val_loss: 0.3816 - val_accuracy: 0.8788\n",
      "Epoch 8/20\n",
      "30/30 [==============================] - 1s 18ms/step - loss: 0.2650 - accuracy: 0.9424 - val_loss: 0.3745 - val_accuracy: 0.8811\n",
      "Epoch 9/20\n",
      "30/30 [==============================] - 1s 18ms/step - loss: 0.2554 - accuracy: 0.9415 - val_loss: 0.3980 - val_accuracy: 0.8733\n",
      "Epoch 10/20\n",
      "30/30 [==============================] - 1s 18ms/step - loss: 0.2547 - accuracy: 0.9427 - val_loss: 0.3928 - val_accuracy: 0.8752\n",
      "Epoch 11/20\n",
      "30/30 [==============================] - 1s 17ms/step - loss: 0.2451 - accuracy: 0.9463 - val_loss: 0.3798 - val_accuracy: 0.8801\n",
      "Epoch 12/20\n",
      "30/30 [==============================] - 1s 17ms/step - loss: 0.2385 - accuracy: 0.9507 - val_loss: 0.3817 - val_accuracy: 0.8813\n",
      "Epoch 13/20\n",
      "30/30 [==============================] - 0s 15ms/step - loss: 0.2354 - accuracy: 0.9497 - val_loss: 0.3859 - val_accuracy: 0.8804\n",
      "Epoch 14/20\n",
      "30/30 [==============================] - 0s 15ms/step - loss: 0.2299 - accuracy: 0.9503 - val_loss: 0.3942 - val_accuracy: 0.8785\n",
      "Epoch 15/20\n",
      "30/30 [==============================] - 0s 15ms/step - loss: 0.2244 - accuracy: 0.9553 - val_loss: 0.4577 - val_accuracy: 0.8606\n",
      "Epoch 16/20\n",
      "30/30 [==============================] - 0s 15ms/step - loss: 0.2246 - accuracy: 0.9518 - val_loss: 0.4015 - val_accuracy: 0.8759\n",
      "Epoch 17/20\n",
      "30/30 [==============================] - 0s 15ms/step - loss: 0.2220 - accuracy: 0.9552 - val_loss: 0.4053 - val_accuracy: 0.8762\n",
      "Epoch 18/20\n",
      "30/30 [==============================] - 0s 15ms/step - loss: 0.2133 - accuracy: 0.9573 - val_loss: 0.4083 - val_accuracy: 0.8766\n",
      "Epoch 19/20\n",
      "30/30 [==============================] - 0s 16ms/step - loss: 0.2207 - accuracy: 0.9534 - val_loss: 0.4080 - val_accuracy: 0.8760\n",
      "Epoch 20/20\n",
      "30/30 [==============================] - 0s 15ms/step - loss: 0.2125 - accuracy: 0.9566 - val_loss: 0.4243 - val_accuracy: 0.8743\n"
     ]
    }
   ],
   "source": [
    "from tensorflow.keras import regularizers\n",
    "model = keras.Sequential([\n",
    "    layers.Dense(16,\n",
    "                 kernel_regularizer=regularizers.l2(0.002),\n",
    "                 activation=\"relu\"),\n",
    "    layers.Dense(16,\n",
    "                 kernel_regularizer=regularizers.l2(0.002),\n",
    "                 activation=\"relu\"),\n",
    "    layers.Dense(1, activation=\"sigmoid\")\n",
    "])\n",
    "model.compile(optimizer=\"rmsprop\",\n",
    "              loss=\"binary_crossentropy\",\n",
    "              metrics=[\"accuracy\"])\n",
    "history_l2_reg = model.fit(\n",
    "    train_data, train_labels,\n",
    "    epochs=20, batch_size=512, validation_split=0.4)"
   ]
  },
  {
   "cell_type": "markdown",
   "metadata": {
    "colab_type": "text"
   },
   "source": [
    "**Different weight regularizers available in Keras**"
   ]
  },
  {
   "cell_type": "code",
   "execution_count": 14,
   "metadata": {
    "colab_type": "code"
   },
   "outputs": [
    {
     "data": {
      "text/plain": [
       "<keras.regularizers.L1L2 at 0x2172be34c40>"
      ]
     },
     "execution_count": 14,
     "metadata": {},
     "output_type": "execute_result"
    }
   ],
   "source": [
    "from tensorflow.keras import regularizers\n",
    "regularizers.l1(0.001)\n",
    "regularizers.l1_l2(l1=0.001, l2=0.001)"
   ]
  },
  {
   "cell_type": "markdown",
   "metadata": {
    "colab_type": "text"
   },
   "source": [
    "#### Adding dropout"
   ]
  },
  {
   "cell_type": "markdown",
   "metadata": {
    "colab_type": "text"
   },
   "source": [
    "**Adding dropout to the IMDB model**"
   ]
  },
  {
   "cell_type": "code",
   "execution_count": 15,
   "metadata": {
    "colab_type": "code"
   },
   "outputs": [
    {
     "name": "stdout",
     "output_type": "stream",
     "text": [
      "Epoch 1/20\n",
      "30/30 [==============================] - 2s 34ms/step - loss: 0.6347 - accuracy: 0.6237 - val_loss: 0.5352 - val_accuracy: 0.8274\n",
      "Epoch 2/20\n",
      "30/30 [==============================] - 1s 23ms/step - loss: 0.5131 - accuracy: 0.7608 - val_loss: 0.4151 - val_accuracy: 0.8746\n",
      "Epoch 3/20\n",
      "30/30 [==============================] - 1s 20ms/step - loss: 0.4278 - accuracy: 0.8251 - val_loss: 0.3452 - val_accuracy: 0.8835\n",
      "Epoch 4/20\n",
      "30/30 [==============================] - 1s 19ms/step - loss: 0.3664 - accuracy: 0.8646 - val_loss: 0.3281 - val_accuracy: 0.8766\n",
      "Epoch 5/20\n",
      "30/30 [==============================] - 1s 19ms/step - loss: 0.3120 - accuracy: 0.8918 - val_loss: 0.2845 - val_accuracy: 0.8905\n",
      "Epoch 6/20\n",
      "30/30 [==============================] - 1s 19ms/step - loss: 0.2679 - accuracy: 0.9087 - val_loss: 0.2807 - val_accuracy: 0.8864\n",
      "Epoch 7/20\n",
      "30/30 [==============================] - 1s 20ms/step - loss: 0.2395 - accuracy: 0.9209 - val_loss: 0.2867 - val_accuracy: 0.8861\n",
      "Epoch 8/20\n",
      "30/30 [==============================] - 1s 19ms/step - loss: 0.2141 - accuracy: 0.9344 - val_loss: 0.2994 - val_accuracy: 0.8887\n",
      "Epoch 9/20\n",
      "30/30 [==============================] - 1s 19ms/step - loss: 0.1877 - accuracy: 0.9407 - val_loss: 0.3138 - val_accuracy: 0.8889\n",
      "Epoch 10/20\n",
      "30/30 [==============================] - 1s 18ms/step - loss: 0.1662 - accuracy: 0.9459 - val_loss: 0.3338 - val_accuracy: 0.8850\n",
      "Epoch 11/20\n",
      "30/30 [==============================] - 1s 18ms/step - loss: 0.1510 - accuracy: 0.9529 - val_loss: 0.3563 - val_accuracy: 0.8861\n",
      "Epoch 12/20\n",
      "30/30 [==============================] - 1s 18ms/step - loss: 0.1358 - accuracy: 0.9573 - val_loss: 0.3845 - val_accuracy: 0.8840\n",
      "Epoch 13/20\n",
      "30/30 [==============================] - 0s 16ms/step - loss: 0.1202 - accuracy: 0.9639 - val_loss: 0.4461 - val_accuracy: 0.8846\n",
      "Epoch 14/20\n",
      "30/30 [==============================] - 0s 16ms/step - loss: 0.1141 - accuracy: 0.9665 - val_loss: 0.4260 - val_accuracy: 0.8831\n",
      "Epoch 15/20\n",
      "30/30 [==============================] - 0s 16ms/step - loss: 0.1043 - accuracy: 0.9693 - val_loss: 0.4767 - val_accuracy: 0.8837\n",
      "Epoch 16/20\n",
      "30/30 [==============================] - 0s 16ms/step - loss: 0.0984 - accuracy: 0.9713 - val_loss: 0.5207 - val_accuracy: 0.8837\n",
      "Epoch 17/20\n",
      "30/30 [==============================] - 0s 16ms/step - loss: 0.0915 - accuracy: 0.9731 - val_loss: 0.5586 - val_accuracy: 0.8825\n",
      "Epoch 18/20\n",
      "30/30 [==============================] - 0s 16ms/step - loss: 0.0843 - accuracy: 0.9753 - val_loss: 0.5259 - val_accuracy: 0.8773\n",
      "Epoch 19/20\n",
      "30/30 [==============================] - 0s 16ms/step - loss: 0.0764 - accuracy: 0.9762 - val_loss: 0.5768 - val_accuracy: 0.8805\n",
      "Epoch 20/20\n",
      "30/30 [==============================] - 0s 15ms/step - loss: 0.0760 - accuracy: 0.9763 - val_loss: 0.5995 - val_accuracy: 0.8804\n"
     ]
    }
   ],
   "source": [
    "model = keras.Sequential([\n",
    "    layers.Dense(16, activation=\"relu\"),\n",
    "    layers.Dropout(0.5),\n",
    "    layers.Dense(16, activation=\"relu\"),\n",
    "    layers.Dropout(0.5),\n",
    "    layers.Dense(1, activation=\"sigmoid\")\n",
    "])\n",
    "model.compile(optimizer=\"rmsprop\",\n",
    "              loss=\"binary_crossentropy\",\n",
    "              metrics=[\"accuracy\"])\n",
    "history_dropout = model.fit(\n",
    "    train_data, train_labels,\n",
    "    epochs=20, batch_size=512, validation_split=0.4)"
   ]
  },
  {
   "cell_type": "markdown",
   "metadata": {
    "colab_type": "text"
   },
   "source": [
    "## Summary"
   ]
  }
 ],
 "metadata": {
  "colab": {
   "collapsed_sections": [],
   "name": "chapter05_fundamentals-of-ml.i",
   "private_outputs": false,
   "provenance": [],
   "toc_visible": true
  },
  "kernelspec": {
   "display_name": "Python 3",
   "language": "python",
   "name": "python3"
  },
  "language_info": {
   "codemirror_mode": {
    "name": "ipython",
    "version": 3
   },
   "file_extension": ".py",
   "mimetype": "text/x-python",
   "name": "python",
   "nbconvert_exporter": "python",
   "pygments_lexer": "ipython3",
   "version": "3.8.5"
  }
 },
 "nbformat": 4,
 "nbformat_minor": 1
}
