{
 "cells": [
  {
   "cell_type": "markdown",
   "metadata": {},
   "source": [
    "# 長庚大學 資工系/人工智慧學程  樣形識別/深度學習 課程使用之教材及示範程式 Ch02"
   ]
  },
  {
   "cell_type": "code",
   "execution_count": 1,
   "metadata": {},
   "outputs": [],
   "source": [
    "import numpy as np\n",
    "import tensorflow as tf\n",
    "import tensorflow.keras as keras"
   ]
  },
  {
   "cell_type": "code",
   "execution_count": 2,
   "metadata": {},
   "outputs": [],
   "source": [
    "(xr,yr), (xt,yt)= keras.datasets.mnist.load_data()"
   ]
  },
  {
   "cell_type": "code",
   "execution_count": 3,
   "metadata": {},
   "outputs": [
    {
     "data": {
      "text/plain": [
       "((60000, 28, 28), (60000,), (10000, 28, 28), (10000,))"
      ]
     },
     "execution_count": 3,
     "metadata": {},
     "output_type": "execute_result"
    }
   ],
   "source": [
    "xr.shape, yr.shape, xt.shape, yt.shape"
   ]
  },
  {
   "cell_type": "code",
   "execution_count": 4,
   "metadata": {},
   "outputs": [
    {
     "name": "stdout",
     "output_type": "stream",
     "text": [
      "  0  0  0  0  0  0  0  0  0  0  0  0  0  0  0  0  0  0  0  0  0  0  0  0  0  0  0  0\n",
      "  0  0  0  0  0  0  0  0  0  0  0  0  0  0  0  0  0  0  0  0  0  0  0  0  0  0  0  0\n",
      "  0  0  0  0  0  0  0  0  0  0  0  0  0  0  0  0  0  0  0  0  0  0  0  0  0  0  0  0\n",
      "  0  0  0  0  0  0  0  0  0  0  0  0  0  0  0  0  0  0  0  0  0  0  0  0  0  0  0  0\n",
      "  0  0  0  0  0  0  0  0  0  0  0  0  0  0  0 51159253159 50  0  0  0  0  0  0  0  0\n",
      "  0  0  0  0  0  0  0  0  0  0  0  0  0  0 48238252252252237  0  0  0  0  0  0  0  0\n",
      "  0  0  0  0  0  0  0  0  0  0  0  0  0 54227253252239233252 57  6  0  0  0  0  0  0\n",
      "  0  0  0  0  0  0  0  0  0  0  0 10 60224252253252202 84252253122  0  0  0  0  0  0\n",
      "  0  0  0  0  0  0  0  0  0  0  0163252252252253252252 96189253167  0  0  0  0  0  0\n",
      "  0  0  0  0  0  0  0  0  0  0 51238253253190114253228 47 79255168  0  0  0  0  0  0\n",
      "  0  0  0  0  0  0  0  0  0 48238252252179 12 75121 21  0  0253243 50  0  0  0  0  0\n",
      "  0  0  0  0  0  0  0  0 38165253233208 84  0  0  0  0  0  0253252165  0  0  0  0  0\n",
      "  0  0  0  0  0  0  0  7178252240 71 19 28  0  0  0  0  0  0253252195  0  0  0  0  0\n",
      "  0  0  0  0  0  0  0 57252252 63  0  0  0  0  0  0  0  0  0253252195  0  0  0  0  0\n",
      "  0  0  0  0  0  0  0198253190  0  0  0  0  0  0  0  0  0  0255253196  0  0  0  0  0\n",
      "  0  0  0  0  0  0 76246252112  0  0  0  0  0  0  0  0  0  0253252148  0  0  0  0  0\n",
      "  0  0  0  0  0  0 85252230 25  0  0  0  0  0  0  0  0  7135253186 12  0  0  0  0  0\n",
      "  0  0  0  0  0  0 85252223  0  0  0  0  0  0  0  0  7131252225 71  0  0  0  0  0  0\n",
      "  0  0  0  0  0  0 85252145  0  0  0  0  0  0  0 48165252173  0  0  0  0  0  0  0  0\n",
      "  0  0  0  0  0  0 86253225  0  0  0  0  0  0114238253162  0  0  0  0  0  0  0  0  0\n",
      "  0  0  0  0  0  0 85252249146 48 29 85178225253223167 56  0  0  0  0  0  0  0  0  0\n",
      "  0  0  0  0  0  0 85252252252229215252252252196130  0  0  0  0  0  0  0  0  0  0  0\n",
      "  0  0  0  0  0  0 28199252252253252252233145  0  0  0  0  0  0  0  0  0  0  0  0  0\n",
      "  0  0  0  0  0  0  0 25128252253252141 37  0  0  0  0  0  0  0  0  0  0  0  0  0  0\n",
      "  0  0  0  0  0  0  0  0  0  0  0  0  0  0  0  0  0  0  0  0  0  0  0  0  0  0  0  0\n",
      "  0  0  0  0  0  0  0  0  0  0  0  0  0  0  0  0  0  0  0  0  0  0  0  0  0  0  0  0\n",
      "  0  0  0  0  0  0  0  0  0  0  0  0  0  0  0  0  0  0  0  0  0  0  0  0  0  0  0  0\n",
      "  0  0  0  0  0  0  0  0  0  0  0  0  0  0  0  0  0  0  0  0  0  0  0  0  0  0  0  0\n"
     ]
    }
   ],
   "source": [
    "x= xr[1]\n",
    "#%%\n",
    "for i in range(28):\n",
    "    for j in range(28):\n",
    "        z= x[i,j]\n",
    "        print(f'{z:3d}', end='')\n",
    "    print()"
   ]
  },
  {
   "cell_type": "code",
   "execution_count": 5,
   "metadata": {},
   "outputs": [
    {
     "data": {
      "text/plain": [
       "<matplotlib.image.AxesImage at 0x148a5d75b20>"
      ]
     },
     "execution_count": 5,
     "metadata": {},
     "output_type": "execute_result"
    },
    {
     "data": {
      "image/png": "[encoded data removed]",
      "text/plain": [
       "<Figure size 432x288 with 1 Axes>"
      ]
     },
     "metadata": {
      "needs_background": "light"
     },
     "output_type": "display_data"
    }
   ],
   "source": [
    "import matplotlib.pyplot as pl\n",
    "pl.imshow(x)"
   ]
  },
  {
   "cell_type": "code",
   "execution_count": 6,
   "metadata": {},
   "outputs": [
    {
     "name": "stdout",
     "output_type": "stream",
     "text": [
      "y= 5\n"
     ]
    }
   ],
   "source": [
    "y= yr[0]\n",
    "print(f'{y= }')"
   ]
  },
  {
   "cell_type": "code",
   "execution_count": null,
   "metadata": {},
   "outputs": [],
   "source": []
  },
  {
   "cell_type": "code",
   "execution_count": 7,
   "metadata": {},
   "outputs": [],
   "source": [
    "xr1= xr.reshape(-1, 28*28) \n",
    "xt1= xt.reshape(-1, 28*28) "
   ]
  },
  {
   "cell_type": "code",
   "execution_count": 8,
   "metadata": {},
   "outputs": [],
   "source": [
    "aModel= keras.Sequential([\n",
    "    keras.Input(28*28),\n",
    "    keras.layers.Dense(100),    \n",
    "    keras.layers.Dense(10)   \n",
    "    ])\n",
    "\n",
    "aModel.compile(\n",
    "    loss=     'sparse_categorical_crossentropy',\n",
    "    metrics= ['accuracy']\n",
    "    )"
   ]
  },
  {
   "cell_type": "code",
   "execution_count": 9,
   "metadata": {},
   "outputs": [
    {
     "name": "stdout",
     "output_type": "stream",
     "text": [
      "Model: \"sequential\"\n",
      "_________________________________________________________________\n",
      " Layer (type)                Output Shape              Param #   \n",
      "=================================================================\n",
      " dense (Dense)               (None, 100)               78500     \n",
      "                                                                 \n",
      " dense_1 (Dense)             (None, 10)                1010      \n",
      "                                                                 \n",
      "=================================================================\n",
      "Total params: 79,510\n",
      "Trainable params: 79,510\n",
      "Non-trainable params: 0\n",
      "_________________________________________________________________\n"
     ]
    },
    {
     "data": {
      "image/png": "[encoded data removed]",
      "text/plain": [
       "<IPython.core.display.Image object>"
      ]
     },
     "execution_count": 9,
     "metadata": {},
     "output_type": "execute_result"
    }
   ],
   "source": [
    "aModel.summary()\n",
    "\n",
    "keras.utils.plot_model(aModel, \n",
    "    show_shapes= True, \n",
    "    show_layer_activations= True)"
   ]
  },
  {
   "cell_type": "code",
   "execution_count": 10,
   "metadata": {},
   "outputs": [
    {
     "name": "stdout",
     "output_type": "stream",
     "text": [
      "Epoch 1/10\n",
      "1200/1200 [==============================] - 3s 2ms/step - loss: 3.2195 - accuracy: 0.1784\n",
      "Epoch 2/10\n",
      "1200/1200 [==============================] - 3s 2ms/step - loss: 2.3125 - accuracy: 0.2517\n",
      "Epoch 3/10\n",
      "1200/1200 [==============================] - 3s 2ms/step - loss: 2.3041 - accuracy: 0.2456\n",
      "Epoch 4/10\n",
      "1200/1200 [==============================] - 3s 2ms/step - loss: 2.3041 - accuracy: 0.2456\n",
      "Epoch 5/10\n",
      "1200/1200 [==============================] - 3s 2ms/step - loss: 2.3041 - accuracy: 0.2456\n",
      "Epoch 6/10\n",
      "1200/1200 [==============================] - 2s 2ms/step - loss: 2.3041 - accuracy: 0.2456\n",
      "Epoch 7/10\n",
      "1200/1200 [==============================] - 2s 2ms/step - loss: 2.3041 - accuracy: 0.2456\n",
      "Epoch 8/10\n",
      "1200/1200 [==============================] - 3s 2ms/step - loss: 2.3041 - accuracy: 0.2456\n",
      "Epoch 9/10\n",
      "1200/1200 [==============================] - 3s 2ms/step - loss: 2.3041 - accuracy: 0.2456\n",
      "Epoch 10/10\n",
      "1200/1200 [==============================] - 3s 2ms/step - loss: 2.3041 - accuracy: 0.2456\n",
      "313/313 [==============================] - 1s 1ms/step - loss: 2.3049 - accuracy: 0.2414\n"
     ]
    },
    {
     "data": {
      "text/plain": [
       "[2.3048934936523438, 0.24140000343322754]"
      ]
     },
     "execution_count": 10,
     "metadata": {},
     "output_type": "execute_result"
    }
   ],
   "source": [
    "aModel.fit(xr1, yr, \n",
    "           epochs= 10, \n",
    "           batch_size= 50)\n",
    "\n",
    "aModel.evaluate(xt1, yt)"
   ]
  },
  {
   "cell_type": "code",
   "execution_count": 11,
   "metadata": {},
   "outputs": [
    {
     "name": "stdout",
     "output_type": "stream",
     "text": [
      "Epoch 1/10\n",
      "2000/2000 [==============================] - 4s 2ms/step - loss: 3.9530 - accuracy: 0.0935\n",
      "Epoch 2/10\n",
      "2000/2000 [==============================] - 4s 2ms/step - loss: 3.9129 - accuracy: 0.0756\n",
      "Epoch 3/10\n",
      "2000/2000 [==============================] - 4s 2ms/step - loss: 3.9027 - accuracy: 0.0809\n",
      "Epoch 4/10\n",
      "2000/2000 [==============================] - 4s 2ms/step - loss: 3.8943 - accuracy: 0.0994\n",
      "Epoch 5/10\n",
      "2000/2000 [==============================] - 4s 2ms/step - loss: 3.9126 - accuracy: 0.0810\n",
      "Epoch 6/10\n",
      "2000/2000 [==============================] - 4s 2ms/step - loss: 3.9123 - accuracy: 0.0794\n",
      "Epoch 7/10\n",
      "2000/2000 [==============================] - 4s 2ms/step - loss: 3.9121 - accuracy: 0.0759\n",
      "Epoch 8/10\n",
      "2000/2000 [==============================] - 4s 2ms/step - loss: 3.9121 - accuracy: 0.0632\n",
      "Epoch 9/10\n",
      "2000/2000 [==============================] - 4s 2ms/step - loss: 3.9119 - accuracy: 0.0656\n",
      "Epoch 10/10\n",
      "2000/2000 [==============================] - 4s 2ms/step - loss: 3.9122 - accuracy: 0.0618\n",
      "313/313 [==============================] - 1s 1ms/step - loss: 3.9120 - accuracy: 0.0646\n"
     ]
    },
    {
     "data": {
      "text/plain": [
       "[3.9120266437530518, 0.06459999829530716]"
      ]
     },
     "execution_count": 11,
     "metadata": {},
     "output_type": "execute_result"
    }
   ],
   "source": [
    "\n",
    "aModel= keras.Sequential([\n",
    "    keras.Input(28*28),\n",
    "    keras.layers.Dense(100, activation= 'sigmoid'),    \n",
    "    keras.layers.Dense(50)   \n",
    "    ])\n",
    "\n",
    "aModel.compile(\n",
    "    loss=     'sparse_categorical_crossentropy',\n",
    "    metrics= ['accuracy']\n",
    "    )\n",
    "\n",
    "aModel.fit(xr1, yr, \n",
    "           epochs= 10, \n",
    "           batch_size= 30)\n",
    "\n",
    "aModel.evaluate(xt1, yt)"
   ]
  },
  {
   "cell_type": "code",
   "execution_count": 12,
   "metadata": {},
   "outputs": [
    {
     "name": "stdout",
     "output_type": "stream",
     "text": [
      "Epoch 1/10\n",
      "1200/1200 [==============================] - 3s 2ms/step - loss: 0.5340 - accuracy: 0.8521\n",
      "Epoch 2/10\n",
      "1200/1200 [==============================] - 3s 2ms/step - loss: 0.2907 - accuracy: 0.9121\n",
      "Epoch 3/10\n",
      "1200/1200 [==============================] - 3s 2ms/step - loss: 0.2593 - accuracy: 0.9215\n",
      "Epoch 4/10\n",
      "1200/1200 [==============================] - 3s 2ms/step - loss: 0.2372 - accuracy: 0.9294\n",
      "Epoch 5/10\n",
      "1200/1200 [==============================] - 3s 2ms/step - loss: 0.2284 - accuracy: 0.9309\n",
      "Epoch 6/10\n",
      "1200/1200 [==============================] - 3s 2ms/step - loss: 0.2167 - accuracy: 0.9349\n",
      "Epoch 7/10\n",
      "1200/1200 [==============================] - 3s 2ms/step - loss: 0.2113 - accuracy: 0.9363\n",
      "Epoch 8/10\n",
      "1200/1200 [==============================] - 3s 2ms/step - loss: 0.2046 - accuracy: 0.9384\n",
      "Epoch 9/10\n",
      "1200/1200 [==============================] - 3s 2ms/step - loss: 0.2007 - accuracy: 0.9401\n",
      "Epoch 10/10\n",
      "1200/1200 [==============================] - 3s 2ms/step - loss: 0.1971 - accuracy: 0.9409\n",
      "313/313 [==============================] - 1s 2ms/step - loss: 0.2016 - accuracy: 0.9387\n"
     ]
    },
    {
     "data": {
      "text/plain": [
       "[0.20161977410316467, 0.9387000203132629]"
      ]
     },
     "execution_count": 12,
     "metadata": {},
     "output_type": "execute_result"
    }
   ],
   "source": [
    "aModel= keras.Sequential([\n",
    "    keras.Input(28*28),\n",
    "    keras.layers.Dense(100, activation= 'sigmoid'),    \n",
    "    keras.layers.Dense(30,  activation= 'sigmoid')\n",
    "    ])\n",
    "\n",
    "aModel.compile(\n",
    "    loss=     'sparse_categorical_crossentropy',\n",
    "    metrics= ['accuracy']\n",
    "    )\n",
    "\n",
    "aModel.fit(xr1, yr, \n",
    "           epochs= 10, \n",
    "           batch_size= 50)\n",
    "\n",
    "aModel.evaluate(xt1, yt)"
   ]
  },
  {
   "cell_type": "code",
   "execution_count": 13,
   "metadata": {},
   "outputs": [
    {
     "name": "stdout",
     "output_type": "stream",
     "text": [
      "Epoch 1/10\n",
      "1200/1200 [==============================] - 3s 2ms/step - loss: 2.9204 - accuracy: 0.8599\n",
      "Epoch 2/10\n",
      "1200/1200 [==============================] - 3s 2ms/step - loss: 0.5422 - accuracy: 0.9229\n",
      "Epoch 3/10\n",
      "1200/1200 [==============================] - 3s 2ms/step - loss: 0.4221 - accuracy: 0.9415\n",
      "Epoch 4/10\n",
      "1200/1200 [==============================] - 3s 2ms/step - loss: 0.3685 - accuracy: 0.9475\n",
      "Epoch 5/10\n",
      "1200/1200 [==============================] - 3s 2ms/step - loss: 0.3412 - accuracy: 0.9535\n",
      "Epoch 6/10\n",
      "1200/1200 [==============================] - 3s 2ms/step - loss: 0.3150 - accuracy: 0.9575\n",
      "Epoch 7/10\n",
      "1200/1200 [==============================] - 3s 2ms/step - loss: 0.2962 - accuracy: 0.9606\n",
      "Epoch 8/10\n",
      "1200/1200 [==============================] - 3s 2ms/step - loss: 0.2783 - accuracy: 0.9635\n",
      "Epoch 9/10\n",
      "1200/1200 [==============================] - 3s 2ms/step - loss: 0.2687 - accuracy: 0.9661\n",
      "Epoch 10/10\n",
      "1200/1200 [==============================] - 3s 2ms/step - loss: 0.2602 - accuracy: 0.9683\n",
      "313/313 [==============================] - 1s 2ms/step - loss: 0.6292 - accuracy: 0.9552\n"
     ]
    },
    {
     "data": {
      "text/plain": [
       "[0.6292229294776917, 0.9552000164985657]"
      ]
     },
     "execution_count": 13,
     "metadata": {},
     "output_type": "execute_result"
    }
   ],
   "source": [
    "aModel= keras.Sequential([\n",
    "    keras.Input(28*28),\n",
    "    keras.layers.Dense(100, activation= 'relu'),    \n",
    "    keras.layers.Dense(10,  activation= 'sigmoid')\n",
    "    ])\n",
    "\n",
    "aModel.compile(\n",
    "    loss=     'sparse_categorical_crossentropy',\n",
    "    metrics= ['accuracy']\n",
    "    )\n",
    "\n",
    "aModel.fit(xr1, yr, \n",
    "           epochs= 10, \n",
    "           batch_size= 50)\n",
    "\n",
    "aModel.evaluate(xt1, yt)"
   ]
  },
  {
   "cell_type": "code",
   "execution_count": 14,
   "metadata": {},
   "outputs": [
    {
     "name": "stdout",
     "output_type": "stream",
     "text": [
      "Epoch 1/10\n",
      "1200/1200 [==============================] - 3s 2ms/step - loss: 2.5752 - accuracy: 0.8530\n",
      "Epoch 2/10\n",
      "1200/1200 [==============================] - 3s 2ms/step - loss: 0.4866 - accuracy: 0.9224\n",
      "Epoch 3/10\n",
      "1200/1200 [==============================] - 3s 2ms/step - loss: 0.4055 - accuracy: 0.9380\n",
      "Epoch 4/10\n",
      "1200/1200 [==============================] - 3s 2ms/step - loss: 0.3506 - accuracy: 0.9467\n",
      "Epoch 5/10\n",
      "1200/1200 [==============================] - 3s 2ms/step - loss: 0.3268 - accuracy: 0.9524\n",
      "Epoch 6/10\n",
      "1200/1200 [==============================] - 3s 2ms/step - loss: 0.3093 - accuracy: 0.9549\n",
      "Epoch 7/10\n",
      "1200/1200 [==============================] - 3s 3ms/step - loss: 0.3003 - accuracy: 0.9586\n",
      "Epoch 8/10\n",
      "1200/1200 [==============================] - 3s 2ms/step - loss: 0.2882 - accuracy: 0.9616\n",
      "Epoch 9/10\n",
      "1200/1200 [==============================] - 3s 2ms/step - loss: 0.2721 - accuracy: 0.9618\n",
      "Epoch 10/10\n",
      "1200/1200 [==============================] - 2s 2ms/step - loss: 0.2631 - accuracy: 0.9646\n",
      "313/313 [==============================] - 1s 1ms/step - loss: 0.5261 - accuracy: 0.9518\n"
     ]
    },
    {
     "data": {
      "text/plain": [
       "[0.5261195302009583, 0.9517999887466431]"
      ]
     },
     "execution_count": 14,
     "metadata": {},
     "output_type": "execute_result"
    }
   ],
   "source": [
    "aModel= keras.Sequential([\n",
    "    keras.Input(28*28),\n",
    "    keras.layers.Dense(100, activation= 'relu'),    \n",
    "    keras.layers.Dense(10,  activation= 'softmax')\n",
    "    ])\n",
    "\n",
    "aModel.compile(\n",
    "    loss=     'sparse_categorical_crossentropy',\n",
    "    metrics= ['accuracy']\n",
    "    )\n",
    "\n",
    "aModel.fit(xr1, yr, \n",
    "           epochs= 10, \n",
    "           batch_size= 50)\n",
    "\n",
    "aModel.evaluate(xt1, yt)"
   ]
  },
  {
   "cell_type": "code",
   "execution_count": null,
   "metadata": {},
   "outputs": [
    {
     "name": "stdout",
     "output_type": "stream",
     "text": [
      "Epoch 1/10\n",
      "1200/1200 [==============================] - 3s 2ms/step - loss: 0.2852 - accuracy: 0.9191\n",
      "Epoch 2/10\n",
      "1200/1200 [==============================] - 2s 2ms/step - loss: 0.1346 - accuracy: 0.9606\n",
      "Epoch 3/10\n",
      "1200/1200 [==============================] - 2s 2ms/step - loss: 0.0969 - accuracy: 0.9722\n",
      "Epoch 4/10\n",
      "1200/1200 [==============================] - 2s 2ms/step - loss: 0.0769 - accuracy: 0.9774\n",
      "Epoch 5/10\n",
      "1200/1200 [==============================] - 2s 2ms/step - loss: 0.0649 - accuracy: 0.9810\n",
      "Epoch 6/10\n",
      "1200/1200 [==============================] - 2s 2ms/step - loss: 0.0545 - accuracy: 0.9838\n",
      "Epoch 7/10\n",
      "1200/1200 [==============================] - 2s 2ms/step - loss: 0.0480 - accuracy: 0.9857\n",
      "Epoch 8/10\n",
      " 473/1200 [==========>...................] - ETA: 1s - loss: 0.0428 - accuracy: 0.9882"
     ]
    }
   ],
   "source": [
    "xr1= xr.reshape(-1,28*28) /255\n",
    "xt1= xt.reshape(-1,28*28) /255\n",
    "\n",
    "\n",
    "aModel= keras.Sequential([\n",
    "    keras.Input(28*28),\n",
    "    keras.layers.Dense(100, activation= 'relu'),    \n",
    "    keras.layers.Dense(10,  activation= 'softmax')\n",
    "    ])\n",
    "\n",
    "aModel.compile(\n",
    "    loss=     'sparse_categorical_crossentropy',\n",
    "    metrics= ['accuracy']\n",
    "    )\n",
    "\n",
    "aModel.fit(xr1, yr, \n",
    "           epochs= 10, \n",
    "           batch_size= 50)\n",
    "\n",
    "aModel.evaluate(xt1, yt)"
   ]
  },
  {
   "cell_type": "code",
   "execution_count": null,
   "metadata": {},
   "outputs": [],
   "source": [
    "aModel= keras.Sequential([\n",
    "    keras.Input(28*28),\n",
    "    keras.layers.Dense(200, activation= 'relu'),    \n",
    "    keras.layers.Dense(10,  activation= 'softmax')\n",
    "    ])\n",
    "\n",
    "aModel.compile(\n",
    "    loss=     'sparse_categorical_crossentropy',\n",
    "    metrics= ['accuracy']\n",
    "    )\n",
    "\n",
    "aModel.fit(xr1, yr, \n",
    "           epochs= 10, \n",
    "           batch_size= 50)\n",
    "\n",
    "aModel.evaluate(xt1, yt)"
   ]
  },
  {
   "cell_type": "code",
   "execution_count": null,
   "metadata": {},
   "outputs": [],
   "source": [
    "aModel= keras.Sequential([\n",
    "    keras.Input(28*28),\n",
    "    keras.layers.Dense(100, activation= 'relu'), \n",
    "    keras.layers.Dense(100, activation= 'relu'), \n",
    "    keras.layers.Dense(10,  activation= 'softmax')\n",
    "    ])\n",
    "\n",
    "aModel.compile(\n",
    "    loss=     'sparse_categorical_crossentropy',\n",
    "    metrics= ['accuracy']\n",
    "    )\n",
    "\n",
    "aModel.fit(xr1, yr, \n",
    "           epochs= 10, \n",
    "           batch_size= 50)\n",
    "\n",
    "aModel.evaluate(xt1, yt)"
   ]
  },
  {
   "cell_type": "code",
   "execution_count": null,
   "metadata": {},
   "outputs": [],
   "source": [
    "aModel= keras.Sequential([\n",
    "    keras.Input(28*28),\n",
    "    keras.layers.Dense(150, activation= 'relu'), \n",
    "    keras.layers.Dense(50,  activation= 'relu'), \n",
    "    keras.layers.Dense(10,  activation= 'softmax')\n",
    "    ])\n",
    "\n",
    "aModel.compile(\n",
    "    loss=     'sparse_categorical_crossentropy',\n",
    "    metrics= ['accuracy']\n",
    "    )\n",
    "\n",
    "aModel.fit(xr1, yr, \n",
    "           epochs= 10, \n",
    "           batch_size= 50)\n",
    "\n",
    "aModel.evaluate(xt1, yt)"
   ]
  },
  {
   "cell_type": "code",
   "execution_count": null,
   "metadata": {},
   "outputs": [],
   "source": [
    "aModel.summary()\n",
    "\n",
    "keras.utils.plot_model(aModel, \n",
    "    show_shapes= True, \n",
    "    show_layer_activations= True)"
   ]
  },
  {
   "cell_type": "markdown",
   "metadata": {},
   "source": [
    "# 想想看，你能做那些改進來提升正確率 (accuracy) ？\n"
   ]
  },
  {
   "cell_type": "markdown",
   "metadata": {},
   "source": [
    "把batch_size調整，改參數提升正確率。"
   ]
  }
 ],
 "metadata": {
  "kernelspec": {
   "display_name": "Python 3",
   "language": "python",
   "name": "python3"
  },
  "language_info": {
   "codemirror_mode": {
    "name": "ipython",
    "version": 3
   },
   "file_extension": ".py",
   "mimetype": "text/x-python",
   "name": "python",
   "nbconvert_exporter": "python",
   "pygments_lexer": "ipython3",
   "version": "3.8.5"
  }
 },
 "nbformat": 4,
 "nbformat_minor": 5
}
