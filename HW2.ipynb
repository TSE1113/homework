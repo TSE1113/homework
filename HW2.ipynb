{
 "cells": [
  {
   "cell_type": "markdown",
   "metadata": {},
   "source": [
    "# 長庚大學 資工系/人工智慧學程  樣形識別/深度學習 課程使用之教材及示範程式 Ch02"
   ]
  },
  {
   "cell_type": "code",
   "execution_count": 1,
   "metadata": {},
   "outputs": [],
   "source": [
    "import numpy as np\n",
    "import tensorflow as tf\n",
    "import tensorflow.keras as keras"
   ]
  },
  {
   "cell_type": "code",
   "execution_count": 2,
   "metadata": {},
   "outputs": [],
   "source": [
    "(xr,yr), (xt,yt)= keras.datasets.mnist.load_data()"
   ]
  },
  {
   "cell_type": "code",
   "execution_count": 3,
   "metadata": {},
   "outputs": [
    {
     "data": {
      "text/plain": [
       "((60000, 28, 28), (60000,), (10000, 28, 28), (10000,))"
      ]
     },
     "execution_count": 3,
     "metadata": {},
     "output_type": "execute_result"
    }
   ],
   "source": [
    "xr.shape, yr.shape, xt.shape, yt.shape"
   ]
  },
  {
   "cell_type": "code",
   "execution_count": 4,
   "metadata": {},
   "outputs": [
    {
     "name": "stdout",
     "output_type": "stream",
     "text": [
      "  0  0  0  0  0  0  0  0  0  0  0  0  0  0  0  0  0  0  0  0  0  0  0  0  0  0  0  0\n",
      "  0  0  0  0  0  0  0  0  0  0  0  0  0  0  0  0  0  0  0  0  0  0  0  0  0  0  0  0\n",
      "  0  0  0  0  0  0  0  0  0  0  0  0  0  0  0  0  0  0  0  0  0  0  0  0  0  0  0  0\n",
      "  0  0  0  0  0  0  0  0  0  0  0  0  0  0  0  0  0  0  0  0  0  0  0  0  0  0  0  0\n",
      "  0  0  0  0  0  0  0  0  0  0  0  0  0  0  0 51159253159 50  0  0  0  0  0  0  0  0\n",
      "  0  0  0  0  0  0  0  0  0  0  0  0  0  0 48238252252252237  0  0  0  0  0  0  0  0\n",
      "  0  0  0  0  0  0  0  0  0  0  0  0  0 54227253252239233252 57  6  0  0  0  0  0  0\n",
      "  0  0  0  0  0  0  0  0  0  0  0 10 60224252253252202 84252253122  0  0  0  0  0  0\n",
      "  0  0  0  0  0  0  0  0  0  0  0163252252252253252252 96189253167  0  0  0  0  0  0\n",
      "  0  0  0  0  0  0  0  0  0  0 51238253253190114253228 47 79255168  0  0  0  0  0  0\n",
      "  0  0  0  0  0  0  0  0  0 48238252252179 12 75121 21  0  0253243 50  0  0  0  0  0\n",
      "  0  0  0  0  0  0  0  0 38165253233208 84  0  0  0  0  0  0253252165  0  0  0  0  0\n",
      "  0  0  0  0  0  0  0  7178252240 71 19 28  0  0  0  0  0  0253252195  0  0  0  0  0\n",
      "  0  0  0  0  0  0  0 57252252 63  0  0  0  0  0  0  0  0  0253252195  0  0  0  0  0\n",
      "  0  0  0  0  0  0  0198253190  0  0  0  0  0  0  0  0  0  0255253196  0  0  0  0  0\n",
      "  0  0  0  0  0  0 76246252112  0  0  0  0  0  0  0  0  0  0253252148  0  0  0  0  0\n",
      "  0  0  0  0  0  0 85252230 25  0  0  0  0  0  0  0  0  7135253186 12  0  0  0  0  0\n",
      "  0  0  0  0  0  0 85252223  0  0  0  0  0  0  0  0  7131252225 71  0  0  0  0  0  0\n",
      "  0  0  0  0  0  0 85252145  0  0  0  0  0  0  0 48165252173  0  0  0  0  0  0  0  0\n",
      "  0  0  0  0  0  0 86253225  0  0  0  0  0  0114238253162  0  0  0  0  0  0  0  0  0\n",
      "  0  0  0  0  0  0 85252249146 48 29 85178225253223167 56  0  0  0  0  0  0  0  0  0\n",
      "  0  0  0  0  0  0 85252252252229215252252252196130  0  0  0  0  0  0  0  0  0  0  0\n",
      "  0  0  0  0  0  0 28199252252253252252233145  0  0  0  0  0  0  0  0  0  0  0  0  0\n",
      "  0  0  0  0  0  0  0 25128252253252141 37  0  0  0  0  0  0  0  0  0  0  0  0  0  0\n",
      "  0  0  0  0  0  0  0  0  0  0  0  0  0  0  0  0  0  0  0  0  0  0  0  0  0  0  0  0\n",
      "  0  0  0  0  0  0  0  0  0  0  0  0  0  0  0  0  0  0  0  0  0  0  0  0  0  0  0  0\n",
      "  0  0  0  0  0  0  0  0  0  0  0  0  0  0  0  0  0  0  0  0  0  0  0  0  0  0  0  0\n",
      "  0  0  0  0  0  0  0  0  0  0  0  0  0  0  0  0  0  0  0  0  0  0  0  0  0  0  0  0\n"
     ]
    }
   ],
   "source": [
    "x= xr[1]\n",
    "#%%\n",
    "for i in range(28):\n",
    "    for j in range(28):\n",
    "        z= x[i,j]\n",
    "        print(f'{z:3d}', end='')\n",
    "    print()"
   ]
  },
  {
   "cell_type": "code",
   "execution_count": 5,
   "metadata": {},
   "outputs": [
    {
     "data": {
      "text/plain": [
       "<matplotlib.image.AxesImage at 0x195c5ee4b20>"
      ]
     },
     "execution_count": 5,
     "metadata": {},
     "output_type": "execute_result"
    },
    {
     "data": {
      "image/png": "[encoded data removed]",
      "text/plain": [
       "<Figure size 432x288 with 1 Axes>"
      ]
     },
     "metadata": {
      "needs_background": "light"
     },
     "output_type": "display_data"
    }
   ],
   "source": [
    "import matplotlib.pyplot as pl\n",
    "pl.imshow(x)"
   ]
  },
  {
   "cell_type": "code",
   "execution_count": 6,
   "metadata": {},
   "outputs": [
    {
     "name": "stdout",
     "output_type": "stream",
     "text": [
      "y= 5\n"
     ]
    }
   ],
   "source": [
    "y= yr[0]\n",
    "print(f'{y= }')"
   ]
  },
  {
   "cell_type": "code",
   "execution_count": null,
   "metadata": {},
   "outputs": [],
   "source": []
  },
  {
   "cell_type": "code",
   "execution_count": 7,
   "metadata": {},
   "outputs": [],
   "source": [
    "xr1= xr.reshape(-1, 28*28) \n",
    "xt1= xt.reshape(-1, 28*28) "
   ]
  },
  {
   "cell_type": "code",
   "execution_count": 8,
   "metadata": {},
   "outputs": [],
   "source": [
    "aModel= keras.Sequential([\n",
    "    keras.Input(28*28),\n",
    "    keras.layers.Dense(100),    \n",
    "    keras.layers.Dense(10)   \n",
    "    ])\n",
    "\n",
    "aModel.compile(\n",
    "    loss=     'sparse_categorical_crossentropy',\n",
    "    metrics= ['accuracy']\n",
    "    )"
   ]
  },
  {
   "cell_type": "code",
   "execution_count": 9,
   "metadata": {},
   "outputs": [
    {
     "name": "stdout",
     "output_type": "stream",
     "text": [
      "Model: \"sequential\"\n",
      "_________________________________________________________________\n",
      " Layer (type)                Output Shape              Param #   \n",
      "=================================================================\n",
      " dense (Dense)               (None, 100)               78500     \n",
      "                                                                 \n",
      " dense_1 (Dense)             (None, 10)                1010      \n",
      "                                                                 \n",
      "=================================================================\n",
      "Total params: 79,510\n",
      "Trainable params: 79,510\n",
      "Non-trainable params: 0\n",
      "_________________________________________________________________\n"
     ]
    },
    {
     "data": {
      "image/png": "[encoded data removed]",
      "text/plain": [
       "<IPython.core.display.Image object>"
      ]
     },
     "execution_count": 9,
     "metadata": {},
     "output_type": "execute_result"
    }
   ],
   "source": [
    "aModel.summary()\n",
    "\n",
    "keras.utils.plot_model(aModel, \n",
    "    show_shapes= True, \n",
    "    show_layer_activations= True)"
   ]
  },
  {
   "cell_type": "code",
   "execution_count": 10,
   "metadata": {},
   "outputs": [
    {
     "name": "stdout",
     "output_type": "stream",
     "text": [
      "Epoch 1/10\n",
      "1200/1200 [==============================] - 3s 2ms/step - loss: 2.7374 - accuracy: 0.1351\n",
      "Epoch 2/10\n",
      "1200/1200 [==============================] - 3s 2ms/step - loss: 2.3060 - accuracy: 0.1191\n",
      "Epoch 3/10\n",
      "1200/1200 [==============================] - 3s 2ms/step - loss: 2.3060 - accuracy: 0.1191\n",
      "Epoch 4/10\n",
      "1200/1200 [==============================] - 3s 2ms/step - loss: 2.3060 - accuracy: 0.1191\n",
      "Epoch 5/10\n",
      "1200/1200 [==============================] - 3s 2ms/step - loss: 2.3060 - accuracy: 0.1191\n",
      "Epoch 6/10\n",
      "1200/1200 [==============================] - 3s 2ms/step - loss: 2.3060 - accuracy: 0.1191\n",
      "Epoch 7/10\n",
      "1200/1200 [==============================] - 3s 2ms/step - loss: 2.3060 - accuracy: 0.1191\n",
      "Epoch 8/10\n",
      "1200/1200 [==============================] - 3s 2ms/step - loss: 2.3060 - accuracy: 0.1191\n",
      "Epoch 9/10\n",
      "1200/1200 [==============================] - 3s 2ms/step - loss: 2.3060 - accuracy: 0.1191\n",
      "Epoch 10/10\n",
      "1200/1200 [==============================] - 3s 2ms/step - loss: 2.3060 - accuracy: 0.1191\n",
      "313/313 [==============================] - 1s 1ms/step - loss: 2.3051 - accuracy: 0.1221\n"
     ]
    },
    {
     "data": {
      "text/plain": [
       "[2.305123805999756, 0.12210000306367874]"
      ]
     },
     "execution_count": 10,
     "metadata": {},
     "output_type": "execute_result"
    }
   ],
   "source": [
    "aModel.fit(xr1, yr, \n",
    "           epochs= 10, \n",
    "           batch_size= 50)\n",
    "\n",
    "aModel.evaluate(xt1, yt)"
   ]
  },
  {
   "cell_type": "code",
   "execution_count": 11,
   "metadata": {},
   "outputs": [
    {
     "name": "stdout",
     "output_type": "stream",
     "text": [
      "Epoch 1/10\n",
      "3000/3000 [==============================] - 6s 2ms/step - loss: 3.6091 - accuracy: 0.2094\n",
      "Epoch 2/10\n",
      "3000/3000 [==============================] - 6s 2ms/step - loss: 3.6903 - accuracy: 0.2476\n",
      "Epoch 3/10\n",
      "3000/3000 [==============================] - 6s 2ms/step - loss: 3.7574 - accuracy: 0.1856\n",
      "Epoch 4/10\n",
      "3000/3000 [==============================] - 6s 2ms/step - loss: 3.8444 - accuracy: 0.2145\n",
      "Epoch 5/10\n",
      "3000/3000 [==============================] - 6s 2ms/step - loss: 3.8830 - accuracy: 0.1933\n",
      "Epoch 6/10\n",
      "3000/3000 [==============================] - 6s 2ms/step - loss: 3.8727 - accuracy: 0.1858\n",
      "Epoch 7/10\n",
      "3000/3000 [==============================] - 6s 2ms/step - loss: 3.8793 - accuracy: 0.1859\n",
      "Epoch 8/10\n",
      "3000/3000 [==============================] - 6s 2ms/step - loss: 3.8677 - accuracy: 0.1846\n",
      "Epoch 9/10\n",
      "3000/3000 [==============================] - 6s 2ms/step - loss: 3.8943 - accuracy: 0.1857\n",
      "Epoch 10/10\n",
      "3000/3000 [==============================] - 6s 2ms/step - loss: 3.9048 - accuracy: 0.1970\n",
      "313/313 [==============================] - 1s 1ms/step - loss: 3.9133 - accuracy: 0.2057\n"
     ]
    },
    {
     "data": {
      "text/plain": [
       "[3.9133331775665283, 0.20569999516010284]"
      ]
     },
     "execution_count": 11,
     "metadata": {},
     "output_type": "execute_result"
    }
   ],
   "source": [
    "\n",
    "aModel= keras.Sequential([\n",
    "    keras.Input(28*28),\n",
    "    keras.layers.Dense(100, activation= 'sigmoid'),    \n",
    "    keras.layers.Dense(50)   \n",
    "    ])\n",
    "\n",
    "aModel.compile(\n",
    "    loss=     'sparse_categorical_crossentropy',\n",
    "    metrics= ['accuracy']\n",
    "    )\n",
    "\n",
    "aModel.fit(xr1, yr, \n",
    "           epochs= 10, \n",
    "           batch_size= 20)\n",
    "\n",
    "aModel.evaluate(xt1, yt)"
   ]
  },
  {
   "cell_type": "code",
   "execution_count": 12,
   "metadata": {},
   "outputs": [
    {
     "name": "stdout",
     "output_type": "stream",
     "text": [
      "Epoch 1/10\n",
      "600/600 [==============================] - 2s 3ms/step - loss: 0.6091 - accuracy: 0.8388\n",
      "Epoch 2/10\n",
      "600/600 [==============================] - 2s 3ms/step - loss: 0.3017 - accuracy: 0.9101\n",
      "Epoch 3/10\n",
      "600/600 [==============================] - 2s 3ms/step - loss: 0.2592 - accuracy: 0.9220\n",
      "Epoch 4/10\n",
      "600/600 [==============================] - 2s 3ms/step - loss: 0.2335 - accuracy: 0.9289\n",
      "Epoch 5/10\n",
      "600/600 [==============================] - 2s 3ms/step - loss: 0.2189 - accuracy: 0.9338\n",
      "Epoch 6/10\n",
      "600/600 [==============================] - 2s 3ms/step - loss: 0.2097 - accuracy: 0.9366\n",
      "Epoch 7/10\n",
      "600/600 [==============================] - 2s 3ms/step - loss: 0.1974 - accuracy: 0.9402\n",
      "Epoch 8/10\n",
      "600/600 [==============================] - 2s 3ms/step - loss: 0.1905 - accuracy: 0.9426\n",
      "Epoch 9/10\n",
      "600/600 [==============================] - 2s 3ms/step - loss: 0.1856 - accuracy: 0.9427\n",
      "Epoch 10/10\n",
      "600/600 [==============================] - 2s 3ms/step - loss: 0.1845 - accuracy: 0.9452\n",
      "313/313 [==============================] - 1s 1ms/step - loss: 0.1861 - accuracy: 0.9445\n"
     ]
    },
    {
     "data": {
      "text/plain": [
       "[0.1860773265361786, 0.9445000290870667]"
      ]
     },
     "execution_count": 12,
     "metadata": {},
     "output_type": "execute_result"
    }
   ],
   "source": [
    "aModel= keras.Sequential([\n",
    "    keras.Input(28*28),\n",
    "    keras.layers.Dense(100, activation= 'sigmoid'),    \n",
    "    keras.layers.Dense(30,  activation= 'sigmoid')\n",
    "    ])\n",
    "\n",
    "aModel.compile(\n",
    "    loss=     'sparse_categorical_crossentropy',\n",
    "    metrics= ['accuracy']\n",
    "    )\n",
    "\n",
    "aModel.fit(xr1, yr, \n",
    "           epochs= 10, \n",
    "           batch_size= 100)\n",
    "\n",
    "aModel.evaluate(xt1, yt)"
   ]
  },
  {
   "cell_type": "code",
   "execution_count": 13,
   "metadata": {},
   "outputs": [
    {
     "name": "stdout",
     "output_type": "stream",
     "text": [
      "Epoch 1/10\n",
      "600/600 [==============================] - 2s 3ms/step - loss: 3.1548 - accuracy: 0.8522\n",
      "Epoch 2/10\n",
      "600/600 [==============================] - 2s 3ms/step - loss: 0.5014 - accuracy: 0.9182\n",
      "Epoch 3/10\n",
      "600/600 [==============================] - 2s 3ms/step - loss: 0.3633 - accuracy: 0.9382\n",
      "Epoch 4/10\n",
      "600/600 [==============================] - 2s 3ms/step - loss: 0.2928 - accuracy: 0.9484\n",
      "Epoch 5/10\n",
      "600/600 [==============================] - 2s 3ms/step - loss: 0.2668 - accuracy: 0.9538\n",
      "Epoch 6/10\n",
      "600/600 [==============================] - 2s 3ms/step - loss: 0.2314 - accuracy: 0.9606\n",
      "Epoch 7/10\n",
      "600/600 [==============================] - 2s 3ms/step - loss: 0.2153 - accuracy: 0.9635\n",
      "Epoch 8/10\n",
      "600/600 [==============================] - 2s 3ms/step - loss: 0.1936 - accuracy: 0.9660\n",
      "Epoch 9/10\n",
      "600/600 [==============================] - 2s 3ms/step - loss: 0.1747 - accuracy: 0.9691\n",
      "Epoch 10/10\n",
      "600/600 [==============================] - 2s 3ms/step - loss: 0.1681 - accuracy: 0.9707\n",
      "313/313 [==============================] - 1s 1ms/step - loss: 0.4299 - accuracy: 0.9541\n"
     ]
    },
    {
     "data": {
      "text/plain": [
       "[0.4298684597015381, 0.9541000127792358]"
      ]
     },
     "execution_count": 13,
     "metadata": {},
     "output_type": "execute_result"
    }
   ],
   "source": [
    "aModel= keras.Sequential([\n",
    "    keras.Input(28*28),\n",
    "    keras.layers.Dense(100, activation= 'relu'),    \n",
    "    keras.layers.Dense(10,  activation= 'sigmoid')\n",
    "    ])\n",
    "\n",
    "aModel.compile(\n",
    "    loss=     'sparse_categorical_crossentropy',\n",
    "    metrics= ['accuracy']\n",
    "    )\n",
    "\n",
    "aModel.fit(xr1, yr, \n",
    "           epochs= 10, \n",
    "           batch_size= 100)\n",
    "\n",
    "aModel.evaluate(xt1, yt)"
   ]
  },
  {
   "cell_type": "code",
   "execution_count": 14,
   "metadata": {},
   "outputs": [
    {
     "name": "stdout",
     "output_type": "stream",
     "text": [
      "Epoch 1/10\n",
      "600/600 [==============================] - 2s 3ms/step - loss: 4.5046 - accuracy: 0.8657\n",
      "Epoch 2/10\n",
      "600/600 [==============================] - 2s 3ms/step - loss: 0.5798 - accuracy: 0.9148\n",
      "Epoch 3/10\n",
      "600/600 [==============================] - 2s 3ms/step - loss: 0.3934 - accuracy: 0.9373\n",
      "Epoch 4/10\n",
      "600/600 [==============================] - 2s 3ms/step - loss: 0.3183 - accuracy: 0.9483\n",
      "Epoch 5/10\n",
      "600/600 [==============================] - 2s 3ms/step - loss: 0.2716 - accuracy: 0.9557\n",
      "Epoch 6/10\n",
      "600/600 [==============================] - 2s 3ms/step - loss: 0.2385 - accuracy: 0.9604\n",
      "Epoch 7/10\n",
      "600/600 [==============================] - 2s 3ms/step - loss: 0.2120 - accuracy: 0.9644\n",
      "Epoch 8/10\n",
      "600/600 [==============================] - 2s 3ms/step - loss: 0.1919 - accuracy: 0.9666\n",
      "Epoch 9/10\n",
      "600/600 [==============================] - 2s 3ms/step - loss: 0.1849 - accuracy: 0.9691\n",
      "Epoch 10/10\n",
      "600/600 [==============================] - 2s 3ms/step - loss: 0.1795 - accuracy: 0.9705\n",
      "313/313 [==============================] - 1s 1ms/step - loss: 0.5716 - accuracy: 0.9577\n"
     ]
    },
    {
     "data": {
      "text/plain": [
       "[0.5715620517730713, 0.9577000141143799]"
      ]
     },
     "execution_count": 14,
     "metadata": {},
     "output_type": "execute_result"
    }
   ],
   "source": [
    "aModel= keras.Sequential([\n",
    "    keras.Input(28*28),\n",
    "    keras.layers.Dense(100, activation= 'relu'),    \n",
    "    keras.layers.Dense(10,  activation= 'softmax')\n",
    "    ])\n",
    "\n",
    "aModel.compile(\n",
    "    loss=     'sparse_categorical_crossentropy',\n",
    "    metrics= ['accuracy']\n",
    "    )\n",
    "\n",
    "aModel.fit(xr1, yr, \n",
    "           epochs= 10, \n",
    "           batch_size= 100)\n",
    "\n",
    "aModel.evaluate(xt1, yt)"
   ]
  },
  {
   "cell_type": "code",
   "execution_count": 15,
   "metadata": {},
   "outputs": [
    {
     "name": "stdout",
     "output_type": "stream",
     "text": [
      "Epoch 1/10\n",
      "600/600 [==============================] - 2s 2ms/step - loss: 0.3346 - accuracy: 0.9088\n",
      "Epoch 2/10\n",
      "600/600 [==============================] - 1s 2ms/step - loss: 0.1585 - accuracy: 0.9541\n",
      "Epoch 3/10\n",
      "600/600 [==============================] - 1s 2ms/step - loss: 0.1147 - accuracy: 0.9666\n",
      "Epoch 4/10\n",
      "600/600 [==============================] - 1s 2ms/step - loss: 0.0906 - accuracy: 0.9733\n",
      "Epoch 5/10\n",
      "600/600 [==============================] - 1s 2ms/step - loss: 0.0748 - accuracy: 0.9780\n",
      "Epoch 6/10\n",
      "600/600 [==============================] - 1s 2ms/step - loss: 0.0630 - accuracy: 0.9813\n",
      "Epoch 7/10\n",
      "600/600 [==============================] - 1s 2ms/step - loss: 0.0549 - accuracy: 0.9840\n",
      "Epoch 8/10\n",
      "600/600 [==============================] - 1s 2ms/step - loss: 0.0484 - accuracy: 0.9863\n",
      "Epoch 9/10\n",
      "600/600 [==============================] - 2s 3ms/step - loss: 0.0421 - accuracy: 0.9877\n",
      "Epoch 10/10\n",
      "600/600 [==============================] - 1s 2ms/step - loss: 0.0377 - accuracy: 0.9890\n",
      "313/313 [==============================] - 1s 1ms/step - loss: 0.0799 - accuracy: 0.9777\n"
     ]
    },
    {
     "data": {
      "text/plain": [
       "[0.07991041988134384, 0.9776999950408936]"
      ]
     },
     "execution_count": 15,
     "metadata": {},
     "output_type": "execute_result"
    }
   ],
   "source": [
    "xr1= xr.reshape(-1,28*28) /255\n",
    "xt1= xt.reshape(-1,28*28) /255\n",
    "\n",
    "\n",
    "aModel= keras.Sequential([\n",
    "    keras.Input(28*28),\n",
    "    keras.layers.Dense(100, activation= 'relu'),    \n",
    "    keras.layers.Dense(10,  activation= 'softmax')\n",
    "    ])\n",
    "\n",
    "aModel.compile(\n",
    "    loss=     'sparse_categorical_crossentropy',\n",
    "    metrics= ['accuracy']\n",
    "    )\n",
    "\n",
    "aModel.fit(xr1, yr, \n",
    "           epochs= 10, \n",
    "           batch_size= 100)\n",
    "\n",
    "aModel.evaluate(xt1, yt)"
   ]
  },
  {
   "cell_type": "code",
   "execution_count": 16,
   "metadata": {},
   "outputs": [
    {
     "name": "stdout",
     "output_type": "stream",
     "text": [
      "Epoch 1/10\n",
      "600/600 [==============================] - 2s 3ms/step - loss: 0.2892 - accuracy: 0.9190\n",
      "Epoch 2/10\n",
      "600/600 [==============================] - 2s 3ms/step - loss: 0.1300 - accuracy: 0.9621\n",
      "Epoch 3/10\n",
      "600/600 [==============================] - 2s 3ms/step - loss: 0.0902 - accuracy: 0.9740\n",
      "Epoch 4/10\n",
      "600/600 [==============================] - 2s 3ms/step - loss: 0.0689 - accuracy: 0.9798\n",
      "Epoch 5/10\n",
      "600/600 [==============================] - 2s 3ms/step - loss: 0.0548 - accuracy: 0.9837\n",
      "Epoch 6/10\n",
      "600/600 [==============================] - 2s 3ms/step - loss: 0.0448 - accuracy: 0.9871\n",
      "Epoch 7/10\n",
      "600/600 [==============================] - 2s 3ms/step - loss: 0.0373 - accuracy: 0.9890\n",
      "Epoch 8/10\n",
      "600/600 [==============================] - 2s 3ms/step - loss: 0.0310 - accuracy: 0.9913\n",
      "Epoch 9/10\n",
      "600/600 [==============================] - 2s 3ms/step - loss: 0.0256 - accuracy: 0.9928\n",
      "Epoch 10/10\n",
      "600/600 [==============================] - 2s 3ms/step - loss: 0.0216 - accuracy: 0.9938\n",
      "313/313 [==============================] - 1s 2ms/step - loss: 0.0785 - accuracy: 0.9790\n"
     ]
    },
    {
     "data": {
      "text/plain": [
       "[0.07848332077264786, 0.9789999723434448]"
      ]
     },
     "execution_count": 16,
     "metadata": {},
     "output_type": "execute_result"
    }
   ],
   "source": [
    "aModel= keras.Sequential([\n",
    "    keras.Input(28*28),\n",
    "    keras.layers.Dense(200, activation= 'relu'),    \n",
    "    keras.layers.Dense(10,  activation= 'softmax')\n",
    "    ])\n",
    "\n",
    "aModel.compile(\n",
    "    loss=     'sparse_categorical_crossentropy',\n",
    "    metrics= ['accuracy']\n",
    "    )\n",
    "\n",
    "aModel.fit(xr1, yr, \n",
    "           epochs= 10, \n",
    "           batch_size= 100)\n",
    "\n",
    "aModel.evaluate(xt1, yt)"
   ]
  },
  {
   "cell_type": "code",
   "execution_count": 17,
   "metadata": {},
   "outputs": [
    {
     "name": "stdout",
     "output_type": "stream",
     "text": [
      "Epoch 1/10\n",
      "600/600 [==============================] - 2s 3ms/step - loss: 0.3018 - accuracy: 0.9133\n",
      "Epoch 2/10\n",
      "600/600 [==============================] - 2s 3ms/step - loss: 0.1323 - accuracy: 0.9606\n",
      "Epoch 3/10\n",
      "600/600 [==============================] - 2s 3ms/step - loss: 0.0935 - accuracy: 0.9712\n",
      "Epoch 4/10\n",
      "600/600 [==============================] - 2s 3ms/step - loss: 0.0720 - accuracy: 0.9784\n",
      "Epoch 5/10\n",
      "600/600 [==============================] - 2s 3ms/step - loss: 0.0585 - accuracy: 0.9821\n",
      "Epoch 6/10\n",
      "600/600 [==============================] - 2s 3ms/step - loss: 0.0490 - accuracy: 0.9849\n",
      "Epoch 7/10\n",
      "600/600 [==============================] - 2s 3ms/step - loss: 0.0395 - accuracy: 0.9881\n",
      "Epoch 8/10\n",
      "600/600 [==============================] - 2s 3ms/step - loss: 0.0343 - accuracy: 0.9893\n",
      "Epoch 9/10\n",
      "600/600 [==============================] - 2s 3ms/step - loss: 0.0293 - accuracy: 0.9912\n",
      "Epoch 10/10\n",
      "600/600 [==============================] - 2s 3ms/step - loss: 0.0254 - accuracy: 0.9921\n",
      "313/313 [==============================] - 1s 2ms/step - loss: 0.0940 - accuracy: 0.9773\n"
     ]
    },
    {
     "data": {
      "text/plain": [
       "[0.094033382833004, 0.9772999882698059]"
      ]
     },
     "execution_count": 17,
     "metadata": {},
     "output_type": "execute_result"
    }
   ],
   "source": [
    "aModel= keras.Sequential([\n",
    "    keras.Input(28*28),\n",
    "    keras.layers.Dense(100, activation= 'relu'), \n",
    "    keras.layers.Dense(100, activation= 'relu'), \n",
    "    keras.layers.Dense(10,  activation= 'softmax')\n",
    "    ])\n",
    "\n",
    "aModel.compile(\n",
    "    loss=     'sparse_categorical_crossentropy',\n",
    "    metrics= ['accuracy']\n",
    "    )\n",
    "\n",
    "aModel.fit(xr1, yr, \n",
    "           epochs= 10, \n",
    "           batch_size= 100)\n",
    "\n",
    "aModel.evaluate(xt1, yt)"
   ]
  },
  {
   "cell_type": "code",
   "execution_count": 18,
   "metadata": {},
   "outputs": [
    {
     "name": "stdout",
     "output_type": "stream",
     "text": [
      "Epoch 1/10\n",
      "600/600 [==============================] - 2s 3ms/step - loss: 0.2995 - accuracy: 0.9137\n",
      "Epoch 2/10\n",
      "600/600 [==============================] - 2s 3ms/step - loss: 0.1235 - accuracy: 0.9631\n",
      "Epoch 3/10\n",
      "600/600 [==============================] - 2s 3ms/step - loss: 0.0850 - accuracy: 0.9742\n",
      "Epoch 4/10\n",
      "600/600 [==============================] - 2s 3ms/step - loss: 0.0644 - accuracy: 0.9798\n",
      "Epoch 5/10\n",
      "600/600 [==============================] - 2s 3ms/step - loss: 0.0518 - accuracy: 0.9843\n",
      "Epoch 6/10\n",
      "600/600 [==============================] - 2s 3ms/step - loss: 0.0415 - accuracy: 0.9872\n",
      "Epoch 7/10\n",
      "600/600 [==============================] - 2s 3ms/step - loss: 0.0342 - accuracy: 0.9892\n",
      "Epoch 8/10\n",
      "600/600 [==============================] - 2s 3ms/step - loss: 0.0287 - accuracy: 0.9912\n",
      "Epoch 9/10\n",
      "600/600 [==============================] - 2s 3ms/step - loss: 0.0238 - accuracy: 0.9929\n",
      "Epoch 10/10\n",
      "600/600 [==============================] - 2s 3ms/step - loss: 0.0200 - accuracy: 0.9938\n",
      "313/313 [==============================] - 1s 2ms/step - loss: 0.0813 - accuracy: 0.9804\n"
     ]
    },
    {
     "data": {
      "text/plain": [
       "[0.08127916604280472, 0.980400025844574]"
      ]
     },
     "execution_count": 18,
     "metadata": {},
     "output_type": "execute_result"
    }
   ],
   "source": [
    "aModel= keras.Sequential([\n",
    "    keras.Input(28*28),\n",
    "    keras.layers.Dense(150, activation= 'relu'), \n",
    "    keras.layers.Dense(50,  activation= 'relu'), \n",
    "    keras.layers.Dense(10,  activation= 'softmax')\n",
    "    ])\n",
    "\n",
    "aModel.compile(\n",
    "    loss=     'sparse_categorical_crossentropy',\n",
    "    metrics= ['accuracy']\n",
    "    )\n",
    "\n",
    "aModel.fit(xr1, yr, \n",
    "           epochs= 10, \n",
    "           batch_size= 100)\n",
    "\n",
    "aModel.evaluate(xt1, yt)"
   ]
  },
  {
   "cell_type": "code",
   "execution_count": 19,
   "metadata": {},
   "outputs": [
    {
     "name": "stdout",
     "output_type": "stream",
     "text": [
      "Model: \"sequential_8\"\n",
      "_________________________________________________________________\n",
      " Layer (type)                Output Shape              Param #   \n",
      "=================================================================\n",
      " dense_17 (Dense)            (None, 150)               117750    \n",
      "                                                                 \n",
      " dense_18 (Dense)            (None, 50)                7550      \n",
      "                                                                 \n",
      " dense_19 (Dense)            (None, 10)                510       \n",
      "                                                                 \n",
      "=================================================================\n",
      "Total params: 125,810\n",
      "Trainable params: 125,810\n",
      "Non-trainable params: 0\n",
      "_________________________________________________________________\n"
     ]
    },
    {
     "data": {
      "image/png": "[encoded data removed]",
      "text/plain": [
       "<IPython.core.display.Image object>"
      ]
     },
     "execution_count": 19,
     "metadata": {},
     "output_type": "execute_result"
    }
   ],
   "source": [
    "aModel.summary()\n",
    "\n",
    "keras.utils.plot_model(aModel, \n",
    "    show_shapes= True, \n",
    "    show_layer_activations= True)"
   ]
  },
  {
   "cell_type": "markdown",
   "metadata": {},
   "source": [
    "# 想想看，你能做那些改進來提升正確率 (accuracy) ？\n"
   ]
  },
  {
   "cell_type": "markdown",
   "metadata": {},
   "source": [
    "把batch_size調整，改參數提升正確率。"
   ]
  }
 ],
 "metadata": {
  "kernelspec": {
   "display_name": "Python 3",
   "language": "python",
   "name": "python3"
  },
  "language_info": {
   "codemirror_mode": {
    "name": "ipython",
    "version": 3
   },
   "file_extension": ".py",
   "mimetype": "text/x-python",
   "name": "python",
   "nbconvert_exporter": "python",
   "pygments_lexer": "ipython3",
   "version": "3.8.5"
  }
 },
 "nbformat": 4,
 "nbformat_minor": 5
}
